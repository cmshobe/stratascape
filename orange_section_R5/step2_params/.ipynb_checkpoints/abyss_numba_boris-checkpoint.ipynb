{
 "cells": [
  {
   "cell_type": "markdown",
   "metadata": {},
   "source": [
    "### Single run of abyss"
   ]
  },
  {
   "cell_type": "markdown",
   "metadata": {},
   "source": [
    "### Import the truth: data\n",
    "\n",
    "This will involve reading in sediment depth measurements and potentially other morphologic parameters. This should ultimately be called, in Benoit's framework, ds_out_true"
   ]
  },
  {
   "cell_type": "code",
   "execution_count": 1,
   "metadata": {},
   "outputs": [],
   "source": [
    "import numpy as np\n",
    "import matplotlib.pyplot as plt\n",
    "import pandas as pd\n",
    "import seaborn as sns\n",
    "import xarray as xr\n",
    "import xsimlab as xs\n",
    "from xsimlab.monitoring import ProgressBar\n",
    "#%load_ext line_profiler\n"
   ]
  },
  {
   "cell_type": "markdown",
   "metadata": {},
   "source": [
    "### Define the xsimlab model\n"
   ]
  },
  {
   "cell_type": "code",
   "execution_count": 2,
   "metadata": {},
   "outputs": [],
   "source": [
    "@xs.process\n",
    "class UniformGrid1D:\n",
    "    \"\"\"Create 1D model grid with uniform spacing\"\"\"\n",
    "    \n",
    "    #grid parameters\n",
    "    spacing = xs.variable(description=\"grid_spacing\", static=True)\n",
    "    length = xs.variable(description=\"grid total length\", static=True)\n",
    "    \n",
    "    #x is an index variable, used for accessing the grid.\n",
    "    x = xs.index(dims=\"x\")\n",
    "    \n",
    "    #create the grid\n",
    "    def initialize(self):\n",
    "        self.x = np.arange(0, self.length, self.spacing)"
   ]
  },
  {
   "cell_type": "code",
   "execution_count": 3,
   "metadata": {},
   "outputs": [],
   "source": [
    "@xs.process\n",
    "class ProfileZ:\n",
    "    \"\"\"Compute the evolution of the elevation (z) profile\"\"\"\n",
    "    \n",
    "    h_vars = xs.group(\"h_vars\") #allows for multiple processes influencing; say diffusion and subsidence\n",
    "    #br_vars = xs.group(\"br_vars\") #allows for multiple processes influencing; say diffusion and subsidence\n",
    "\n",
    "    z = xs.variable(\n",
    "        dims=\"x\", intent=\"inout\", description=\"surface elevation z\", attrs={\"units\": \"m\"}\n",
    "    )\n",
    "    #br = xs.variable(\n",
    "    #    dims=[(), \"x\"], intent=\"in\", description=\"bedrock_elevation\", attrs={\"units\": \"m\"}\n",
    "    #)\n",
    "    br = xs.variable(\n",
    "        dims=[(), \"x\"], intent=\"in\", description=\"bedrock_elevation\", attrs={\"units\": \"m\"}\n",
    "    )\n",
    "    h = xs.variable(\n",
    "        dims=\"x\", intent=\"inout\", description=\"sed_thickness\", attrs={\"units\": \"m\"}\n",
    "    )\n",
    "\n",
    "    def run_step(self):\n",
    "        #self._delta_br = sum((br for br in self.br_vars))\n",
    "        self._delta_h = sum((h for h in self.h_vars))\n",
    "\n",
    "    def finalize_step(self):\n",
    "        #self.br += self._delta_br #update bedrock surface\n",
    "        self.h += self._delta_h #update sediment thickness\n",
    "        self.z = self.br + self.h #add sediment to bedrock to get topo elev."
   ]
  },
  {
   "cell_type": "code",
   "execution_count": 4,
   "metadata": {},
   "outputs": [],
   "source": [
    "import numba as nb\n",
    "\n",
    "@nb.jit(nopython = True, cache = True)\n",
    "def evolve_remaining_nodes(first_marine_node, z, slope, erosion, k_arr, s_crit, travel_dist, sea_level, deposition, qs, spacing, dh_dt, dh ,sed_porosity, dt,h):\n",
    "    \n",
    "    for i in range(first_marine_node + 1, len(z)): #iterate over each element of x ONLY IN THE MARINE\n",
    "        \n",
    "        if slope[i] <= 0: #this is the \"regular,\" right-draining case\n",
    "            deposition[i] = (qs[i-1] * (1 - np.minimum(1, np.power(slope[i] / s_crit, 2)))) / travel_dist\n",
    "            erosion[i] = k_arr[i] * np.abs(slope[i])\n",
    "            if z[i] > sea_level:\n",
    "                deposition[i] = 0\n",
    "        else: #this is the irregular, left-draining case\n",
    "            deposition[i] = qs[i-1] / spacing#(self.qs[i-1] * (1 + np.minimum(1, np.power(self.slope[i] / self.s_crit, 2)))) / self.spacing#self.travel_dist #self.qs[i-1] / self.spacing\n",
    "            erosion[i] = 0\n",
    "            if z[i] > sea_level:\n",
    "                deposition[i] = 0\n",
    "        dh_dt[i] = (-erosion[i] + deposition[i]) / (1 - sed_porosity)\n",
    "\n",
    "        dh[i] = dh_dt[i] * dt\n",
    "\n",
    "        qs[i] = np.maximum(qs[i-1] + (erosion[i] - deposition[i]) * spacing, 0.)\n",
    "\n",
    "        if -dh[i] > h[i]:\n",
    "            dh[i] = -h[i]\n",
    "            qs[i] = np.maximum(qs[i-1] + ((-dh[i] / dt) * (1 - sed_porosity)) * spacing, 0.)\n",
    "            \n",
    "            \n",
    "@nb.jit(nopython = True, cache = True)      \n",
    "def local_NewtonRaphson_scheme_for_compaction(nn,dh_compact,z0, h, sed_porosity, sed_porosity_depth_scale):\n",
    "    #Newton-Raphson iteration  at every node\n",
    "        for k in range(nn):\n",
    "            fx = 1 #throwaway initial value to trigger \"while\" loop\n",
    "            dfx = 1 #throwaway initial value to trigger \"while\" loop\n",
    "            #check whether we're at the root\n",
    "            if dh_compact[k] > 0 : #only apply compaction where deposition is happening\n",
    "                while np.abs(fx / dfx) > 1e-6:\n",
    "                    #calculate value of function at initial guess\n",
    "                    fx = z0[k] - h[k] + sed_porosity * sed_porosity_depth_scale * (np.exp(-z0[k] / sed_porosity_depth_scale) - np.exp(-h[k] / sed_porosity_depth_scale)) - dh_compact[k]\n",
    "        \n",
    "                    #calculate derivative\n",
    "                    dfx = 1 - sed_porosity * np.exp(-z0[k] / sed_porosity_depth_scale)\n",
    "                    z0[k] = z0[k] - fx / dfx\n",
    "\n",
    "            elif dh_compact[k] == 0: #no e or d\n",
    "                z0[k] = h[k]\n",
    "            else: #in the case where erosion happens, the sediment surface shouldn't rebound. \n",
    "                z0[k] = h[k] + dh_compact[k] / (1 - sed_porosity)\n"
   ]
  },
  {
   "cell_type": "code",
   "execution_count": 5,
   "metadata": {},
   "outputs": [],
   "source": [
    "@xs.process\n",
    "class ErosionDeposition:\n",
    "    \"\"\"Here's where the actual computation happenfirst_marine_nodecal diffusion\n",
    "\n",
    "    \"\"\"\n",
    "    \n",
    "    #get input parameters\n",
    "    basin_width = xs.variable(description=\"basin width\")\n",
    "    sea_level = xs.variable(description=\"sea level\")\n",
    "    k_factor = xs.variable(description=\"k factor\")\n",
    "    k_depth_scale = xs.variable(description=\"k depth scale\")\n",
    "    travel_dist = xs.variable(description=\"marine_travel_distance\")\n",
    "    s_crit = xs.variable(description=\"marine_critical_slope\")\n",
    "    sed_porosity = xs.variable(description=\"marine_sediment_porosity\")\n",
    "    sed_porosity_depth_scale = xs.variable(description=\"marine_sediment_porosity_depth_scale\")\n",
    "    qs_in = xs.variable(description=\"sediment_flux_in\")\n",
    "    \n",
    "    slope = xs.variable(\n",
    "        dims=\"x\", intent=\"out\", description=\"topographic_slope\", attrs={\"units\": \"-\"}\n",
    "    )\n",
    "    depth = xs.variable(\n",
    "        dims=\"x\", intent=\"out\", description=\"depth\", attrs={\"units\": \"m\"}\n",
    "    )\n",
    "    erosion = xs.variable(\n",
    "        dims=\"x\", intent=\"out\", description=\"erosion\", attrs={\"units\": \"m/yr\"}\n",
    "    )\n",
    "    deposition = xs.variable(\n",
    "        dims=\"x\", intent=\"out\", description=\"deposition\", attrs={\"units\": \"m/yr\"}\n",
    "    )\n",
    "    dh_dt = xs.variable(\n",
    "        dims=\"x\", intent=\"out\", description=\"dh_dt\", attrs={\"units\": \"m/yr\"}\n",
    "    )\n",
    "    qs = xs.variable(\n",
    "        dims=\"x\", intent=\"out\", description=\"qs\", attrs={\"units\": \"m2/yr\"}\n",
    "    )\n",
    "    #dbr = xs.variable(dims=\"x\", intent=\"out\", groups=\"br_vars\")\n",
    "    dh = xs.variable(dims=\"x\", intent=\"out\", groups=\"h_vars\")\n",
    "    \n",
    "    spacing = xs.foreign(UniformGrid1D, \"spacing\")\n",
    "    #x = xs.foreign(UniformGrid1D, \"x\")\n",
    "    z = xs.foreign(ProfileZ, \"z\")\n",
    "    br = xs.foreign(ProfileZ, \"br\")\n",
    "    h = xs.foreign(ProfileZ, \"h\")\n",
    "    \n",
    "    @xs.runtime(args=\"step_delta\")\n",
    "    def run_step(self, dt):\n",
    "\n",
    "        self.erosion = np.repeat(0., len(self.z))\n",
    "        self.deposition = np.repeat(0., len(self.z))\n",
    "        self.dh_dt = np.repeat(0., len(self.z))\n",
    "        self.qs = np.repeat(0., len(self.z))\n",
    "        self.dh = np.repeat(0., len(self.z))\n",
    "        \n",
    "        #divide Qs_in by basin width to get qs_in\n",
    "        qs_in = self.qs_in / self.basin_width\n",
    "        \n",
    "        #calculate topographic slope\n",
    "        self.slope = np.append(np.diff(self.z) / self.spacing, 0)\n",
    "        #calculate depth below water\n",
    "        self.depth = np.maximum(self.sea_level - self.z, 0)\n",
    "        \n",
    "        #calculate k array\n",
    "        k_arr = self.k_factor * np.exp(-self.depth / self.k_depth_scale)\n",
    "        \n",
    "        #impose hard basin floor\n",
    "        k_arr[self.z <= (self.br + 0.001)] = 0\n",
    "        \n",
    "        #find first marine node\n",
    "        marine_or_terrestrial = self.z <= self.sea_level #boolean: true is marine\n",
    "        first_marine_node = np.argmax(marine_or_terrestrial) #finds the first true\n",
    "        \n",
    "        #evolve first marine node\n",
    "        if self.slope[first_marine_node] <= 0: #this is the \"regular,\" right-draining case\n",
    "            self.erosion[first_marine_node] = k_arr[first_marine_node] * np.abs(self.slope[first_marine_node])\n",
    "            self.deposition[first_marine_node] = (qs_in * (1 - np.minimum(1, np.power(self.slope[first_marine_node] / self.s_crit, 2)))) / self.travel_dist\n",
    "\n",
    "        else:  #this is the irregular, left-draining case\n",
    "            self.erosion[first_marine_node] = 0 #because slope = 0\n",
    "            self.deposition[first_marine_node] = qs_in / self.spacing #(self.qs_in * (1 + np.minimum(1, np.power(self.slope[first_marine_node] / self.s_crit, 2)))) / self.travel_dist #because slope = 0 #self.qs_in / self.travel_dist\n",
    "        self.dh_dt[first_marine_node] = (-self.erosion[first_marine_node] + self.deposition[first_marine_node]) / (1 - self.sed_porosity)\n",
    "        self.dh[first_marine_node] = self.dh_dt[first_marine_node] * dt\n",
    "        self.qs[first_marine_node] = np.maximum(qs_in + (self.erosion[first_marine_node] - self.deposition[first_marine_node]) * self.spacing, 0.)\n",
    "        if -self.dh[first_marine_node] > self.h[first_marine_node]:\n",
    "            self.dh[first_marine_node] = -self.h[first_marine_node]\n",
    "            self.qs[first_marine_node] = np.maximum(qs_in + ((-self.dh[first_marine_node] / dt) * (1 - self.sed_porosity)) * self.spacing, 0.)\n",
    "        \n",
    "        \n",
    "        \n",
    "        #evolve remaining marine nodes\n",
    "        evolve_remaining_nodes(first_marine_node, self.z, self.slope, self.erosion, k_arr, self.s_crit, \n",
    "                               self.travel_dist, self.sea_level, self.deposition, self.qs, self.spacing,\n",
    "                               self.dh_dt, self.dh ,self.sed_porosity, dt, self.h)\n",
    "\n",
    "### First loop\n",
    "#         for i in range(first_marine_node + 1, len(self.z)): #iterate over each element of x ONLY IN THE MARINE\n",
    "        \n",
    "#             if self.slope[i] <= 0: #this is the \"regular,\" right-draining case\n",
    "#                 self.deposition[i] = (self.qs[i-1] * (1 - np.minimum(1, np.power(self.slope[i] / self.s_crit, 2)))) / self.travel_dist\n",
    "#                 self.erosion[i] = k_arr[i] * np.abs(self.slope[i])\n",
    "#                 if self.z[i] > self.sea_level:\n",
    "#                     self.deposition[i] = 0\n",
    "#             else: #this is the irregular, left-draining case\n",
    "#                 self.deposition[i] = self.qs[i-1] / self.spacing#(self.qs[i-1] * (1 + np.minimum(1, np.power(self.slope[i] / self.s_crit, 2)))) / self.spacing#self.travel_dist #self.qs[i-1] / self.spacing\n",
    "#                 self.erosion[i] = 0\n",
    "#                 if self.z[i] > self.sea_level:\n",
    "#                     self.deposition[i] = 0\n",
    "#             self.dh_dt[i] = (-self.erosion[i] + self.deposition[i]) / (1 - self.sed_porosity)\n",
    "            \n",
    "#             self.dh[i] = self.dh_dt[i] * dt\n",
    "            \n",
    "#             self.qs[i] = np.maximum(self.qs[i-1] + (self.erosion[i] - self.deposition[i]) * self.spacing, 0.)\n",
    "            \n",
    "#             if -self.dh[i] > self.h[i]:\n",
    "#                 self.dh[i] = -self.h[i]\n",
    "#                 self.qs[i] = np.maximum(self.qs[i-1] + ((-self.dh[i] / dt) * (1 - self.sed_porosity)) * self.spacing, 0.)\n",
    "# End of forst loop\n",
    "    \n",
    "    \n",
    "#         calculate change in sed thickness\n",
    "#         self.dh[:first_marine_node] = 0\n",
    "#         self.dh[first_marine_node:] = self.dh_dt[first_marine_node:] * dt\n",
    "#         self.dh[self.erosion > self.h] = -self.h[self.erosion > self.h] #if erosion is greater than h, topo only loses h    \n",
    "        \n",
    "        #compact sediment\n",
    "        #calculate the thickness after compaction, z0; dh is the thickness of new deposited solid sediment\n",
    "        dh_compact = self.dh * (1 - self.sed_porosity)\n",
    "    \n",
    "        \n",
    "        #compaction routine\n",
    "        #def compaction(porosity, porosity_depth_scale, nn, dh, zi):\n",
    "        nn = len(self.z)\n",
    "        z0 = np.zeros(nn)\n",
    "        #set initial guess for z0:\n",
    "        z0[:] = self.h[:]\n",
    "        \n",
    "        local_NewtonRaphson_scheme_for_compaction(nn,dh_compact,z0, self.h, self.sed_porosity, self.sed_porosity_depth_scale)\n",
    "#         #Newton-Raphson iteration  at every node\n",
    "#         for k in range(nn):\n",
    "#             fx = 1 #throwaway initial value to trigger \"while\" loop\n",
    "#             dfx = 1 #throwaway initial value to trigger \"while\" loop\n",
    "#             #check whether we're at the root\n",
    "#             if dh_compact[k] > 0 : #only apply compaction where deposition is happening\n",
    "#                 while np.abs(fx / dfx) > 1e-6:\n",
    "#                     #calculate value of function at initial guess\n",
    "#                     fx = z0[k] - self.h[k] + self.sed_porosity * self.sed_porosity_depth_scale * (np.exp(-z0[k] / self.sed_porosity_depth_scale) - np.exp(-self.h[k] / self.sed_porosity_depth_scale)) - dh_compact[k]\n",
    "        \n",
    "#                     #calculate derivative\n",
    "#                     dfx = 1 - self.sed_porosity * np.exp(-z0[k] / self.sed_porosity_depth_scale)\n",
    "#                     z0[k] = z0[k] - fx / dfx\n",
    "\n",
    "#             elif dh_compact[k] == 0: #no e or d\n",
    "#                 z0[k] = self.h[k]\n",
    "#             else: #in the case where erosion happens, the sediment surface shouldn't rebound. \n",
    "#                 z0[k] = self.h[k] + dh_compact[k] / (1 - self.sed_porosity)\n",
    "        \n",
    "        #here, have a chance to set the final dh by differencing new h (z0) and old h (h)\n",
    "        self.dh[:] = z0[:] - self.h[:]\n",
    "        \n",
    "        #finalize changes to bedrock (subsidence) and sediment thickness (e/d)\n",
    "        #self.dbr = (self.subsidence * dt)"
   ]
  },
  {
   "cell_type": "code",
   "execution_count": 6,
   "metadata": {},
   "outputs": [],
   "source": [
    "@xs.process\n",
    "class InitBasinGeom:\n",
    "    \"\"\"\n",
    "    Give initial basin elevation field as a function of x:\n",
    "    z = exp(- (x - a) / b) + c\n",
    "    \"\"\"\n",
    "    \n",
    "    #a = xs.variable(description=\"shift parameter\", static=True)\n",
    "    #b = xs.variable(description=\"scale parameter\", static=True)\n",
    "    #c = xs.variable(description=\"initial basin floor altitude\", static=True)\n",
    "    #d = xs.variable(description=\"x multiplier\", static=True)\n",
    "\n",
    "    init_br = xs.variable(dims=\"x\", description=\"shift parameter\", static=True)\n",
    "    \n",
    "    x = xs.foreign(UniformGrid1D, \"x\")\n",
    "    z = xs.foreign(ProfileZ, \"z\", intent=\"out\")\n",
    "    #br = xs.foreign(ProfileZ, \"br\", intent=\"in\")\n",
    "    h = xs.foreign(ProfileZ, \"h\", intent=\"out\")\n",
    "\n",
    "    def initialize(self):\n",
    "        #self.br = np.exp(- (self.x * self.d - self.a) / self.b) + self.c #build the initial topography\n",
    "        self.h = np.zeros(len(self.x)) #initial sediment thickness is 0\n",
    "        self.z = np.zeros(len(self.x)) + self.init_br #self.br#(np.exp(- (self.x * self.d - self.a) / self.b) + self.c) + self.h"
   ]
  },
  {
   "cell_type": "code",
   "execution_count": 7,
   "metadata": {},
   "outputs": [],
   "source": [
    "marine = xs.Model(\n",
    "    {\n",
    "        \"grid\": UniformGrid1D,\n",
    "        \"profile\": ProfileZ,\n",
    "        \"init\": InitBasinGeom,\n",
    "        \"erode\": ErosionDeposition,\n",
    "    }\n",
    ")"
   ]
  },
  {
   "cell_type": "code",
   "execution_count": 8,
   "metadata": {},
   "outputs": [
    {
     "data": {
      "image/png": "[encoded data removed]",
      "text/plain": [
       "<IPython.core.display.Image object>"
      ]
     },
     "execution_count": 8,
     "metadata": {},
     "output_type": "execute_result"
    }
   ],
   "source": [
    "marine.visualize(show_inputs=True)"
   ]
  },
  {
   "cell_type": "code",
   "execution_count": 9,
   "metadata": {},
   "outputs": [],
   "source": [
    "#need to import basement elevation and qs time series after they were exported by the prepro notebook\n",
    "bedrock_file = '../prepro/bedrock_elev_array.npy'\n",
    "br = np.load(bedrock_file)\n",
    "bedrock_elev_array = xr.DataArray(br, dims=['time', 'x'])\n",
    "initial_bedrock = bedrock_elev_array[0, :]\n",
    "\n",
    "qs_file = '../prepro/qs_array.npy'\n",
    "qs_array = np.load(qs_file)\n",
    "qs_array = xr.DataArray(qs_array, dims=['time'])\n",
    "#this is loading in the full m3/yr numbers directly from Baby et al 2019."
   ]
  },
  {
   "cell_type": "code",
   "execution_count": 10,
   "metadata": {},
   "outputs": [
    {
     "data": {
      "text/plain": [
       "[<matplotlib.lines.Line2D at 0x7f35b101f090>]"
      ]
     },
     "execution_count": 10,
     "metadata": {},
     "output_type": "execute_result"
    },
    {
     "data": {
      "image/png": "[encoded data removed]",
      "text/plain": [
       "<Figure size 432x288 with 1 Axes>"
      ]
     },
     "metadata": {
      "needs_background": "light"
     },
     "output_type": "display_data"
    }
   ],
   "source": [
    "x = np.arange(0, 740000, 10000)\n",
    "plt.plot(x,bedrock_elev_array[0, :])"
   ]
  },
  {
   "cell_type": "code",
   "execution_count": null,
   "metadata": {},
   "outputs": [],
   "source": []
  },
  {
   "cell_type": "code",
   "execution_count": null,
   "metadata": {},
   "outputs": [],
   "source": []
  },
  {
   "cell_type": "code",
   "execution_count": 11,
   "metadata": {},
   "outputs": [],
   "source": [
    "in_ds = xs.create_setup(\n",
    "   ...:     model=marine,\n",
    "   ...:     clocks={\n",
    "   ...:         'time': np.arange(0, 130000000, 1000),\n",
    "   ...:         'otime': np.append(np.arange(0, 130000000, 1000000), 129999000) #np.array([19999000])\n",
    "   ...:     },\n",
    "   ...:     master_clock='time',\n",
    "   ...:     input_vars={\n",
    "   ...:         'grid': {'length': 740000., 'spacing': 10000.},\n",
    "                'init': {'init_br': initial_bedrock},\n",
    "                'erode': {\n",
    "                    'k_factor': 100,\n",
    "                    'k_depth_scale': 75.,\n",
    "                    's_crit': 0.04,\n",
    "                    'travel_dist': 200000.,\n",
    "                    'sed_porosity': 0.56,\n",
    "                    'sed_porosity_depth_scale': 2830.,\n",
    "                    'sea_level': 0.,\n",
    "                    'qs_in': qs_array,\n",
    "                    'basin_width': 1.0\n",
    "                },\n",
    "                'profile': {\n",
    "                    'br': bedrock_elev_array\n",
    "                },\n",
    "   },\n",
    "            output_vars={'profile__z': 'otime', 'profile__br': 'otime', 'profile__h': 'otime'}\n",
    ")"
   ]
  },
  {
   "cell_type": "code",
   "execution_count": 12,
   "metadata": {},
   "outputs": [
    {
     "name": "stdout",
     "output_type": "stream",
     "text": [
      "model took 204.78309607505798 seconds in total\n"
     ]
    }
   ],
   "source": [
    "import time\n",
    "start = time.time()\n",
    "\n",
    "with marine: \n",
    "    out_ds = in_ds.xsimlab.run(store = \"test_numba_boris_2.zarr\")\n",
    "stop = time.time() - start\n",
    "print(\"model took\" , stop, \"seconds in total\")"
   ]
  },
  {
   "cell_type": "markdown",
   "metadata": {},
   "source": [
    "## Boris' comments on speed results\n",
    "\n",
    "- Original model with storing to zarr file: about 384 seconds\n",
    "- Numba for the 2 loops with storage: 103 seconds"
   ]
  },
  {
   "cell_type": "code",
   "execution_count": 13,
   "metadata": {},
   "outputs": [
    {
     "data": {
      "text/plain": [
       "(0.0, 1400000.0)"
      ]
     },
     "execution_count": 13,
     "metadata": {},
     "output_type": "execute_result"
    },
    {
     "data": {
      "image/png": "[encoded data removed]",
      "text/plain": [
       "<Figure size 1584x288 with 1 Axes>"
      ]
     },
     "metadata": {
      "needs_background": "light"
     },
     "output_type": "display_data"
    }
   ],
   "source": [
    "batch_flag=0\n",
    "if batch_flag == 1:\n",
    "    for i in range(n_runs):\n",
    "\n",
    "        #plot stratigraphy adjusted for later subsidence\n",
    "        plt.figure(figsize=(22,2))\n",
    "        final_bedrock = plt.plot(out_ds.x, out_ds.profile__br[i,-1, :], linewidth = 3, color = 'k')\n",
    "\n",
    "    #ex: plot adjusted topography from halfway through simulation (otime[65])\n",
    "    #calc difference between bedrock at time of interest and final bedrock\n",
    "        br_diff0000 = out_ds.profile__br[i,-1, :] - out_ds.profile__br[i,129, :]\n",
    "        br_diff000 = out_ds.profile__br[i,-1, :] - out_ds.profile__br[i,119, :]\n",
    "        br_diff00 = out_ds.profile__br[i,-1, :] - out_ds.profile__br[i,100, :]\n",
    "        br_diff0 = out_ds.profile__br[i,-1, :] - out_ds.profile__br[i,64, :]\n",
    "        br_diff1 = out_ds.profile__br[i,-1, :] - out_ds.profile__br[i,49, :]\n",
    "        br_diff2 = out_ds.profile__br[i,-1, :] - out_ds.profile__br[i,36, :]\n",
    "        br_diff3 = out_ds.profile__br[i,-1, :] - out_ds.profile__br[i,30, :]\n",
    "        br_diff4 = out_ds.profile__br[i,-1, :] - out_ds.profile__br[i,17, :]\n",
    "        plt.plot(out_ds.x, out_ds.profile__z[i,129, :] + br_diff0000, linewidth = 2, color = 'k', linestyle='-')\n",
    "        plt.plot(out_ds.x, out_ds.profile__z[i,119, :] + br_diff000, linewidth = 2, color = 'k', linestyle='-')\n",
    "        plt.plot(out_ds.x, out_ds.profile__z[i,100, :] + br_diff00, linewidth = 2, color = 'k', linestyle='-')\n",
    "        plt.plot(out_ds.x, out_ds.profile__z[i,64, :] + br_diff0, linewidth = 2, color = 'k', linestyle='-')\n",
    "        plt.plot(out_ds.x, out_ds.profile__z[i,49, :] + br_diff1, linewidth = 2, color = 'k', linestyle='-')\n",
    "        plt.plot(out_ds.x, out_ds.profile__z[i,36, :] + br_diff2, linewidth = 2, color = 'k', linestyle='-')\n",
    "        plt.plot(out_ds.x, out_ds.profile__z[i,30, :] + br_diff3, linewidth = 2, color = 'k', linestyle='-')\n",
    "        plt.plot(out_ds.x, out_ds.profile__z[i,17, :] + br_diff4, linewidth = 2, color = 'k', linestyle='-')\n",
    "\n",
    "        #fill in all the strata\n",
    "        plt.fill_between(out_ds.x, out_ds.profile__br[i,-1, :], out_ds.profile__z[i,17, :] + br_diff4, color = 'darkgreen')\n",
    "        plt.fill_between(out_ds.x, out_ds.profile__z[i,17, :] + br_diff4, out_ds.profile__z[i,30, :] + br_diff3, color = 'gray')\n",
    "        plt.fill_between(out_ds.x, out_ds.profile__z[i,30, :] + br_diff3, out_ds.profile__z[i,36, :] + br_diff2, color = 'lightgreen')\n",
    "        plt.fill_between(out_ds.x, out_ds.profile__z[i,36, :] + br_diff2, out_ds.profile__z[i,49, :] + br_diff1, color = 'green')\n",
    "        plt.fill_between(out_ds.x, out_ds.profile__z[i,49, :] + br_diff1, out_ds.profile__z[i,64, :] + br_diff0, color = 'yellow')\n",
    "        plt.fill_between(out_ds.x, out_ds.profile__z[i,64, :] + br_diff0, out_ds.profile__z[i,100, :] + br_diff00, color = 'orange')\n",
    "        plt.fill_between(out_ds.x, out_ds.profile__z[i,100, :] + br_diff00, out_ds.profile__z[i,119, :] + br_diff000, color = 'gold')\n",
    "        plt.fill_between(out_ds.x, out_ds.profile__z[i,119, :] + br_diff000, out_ds.profile__z[i,129, :] + br_diff0000, color = 'bisque')\n",
    "        plt.fill_between(out_ds.x, -7000, out_ds.profile__br[i,-1, :], color = 'k')\n",
    "\n",
    "else: #not batched\n",
    "    #plot stratigraphy adjusted for later subsidence\n",
    "    plt.figure(figsize=(22,4))\n",
    "    final_bedrock = plt.plot(out_ds.x, out_ds.profile__br[-1, :], linewidth = 3, color = 'k')\n",
    "    #plt.plot(out_ds.x, out_ds.profile__z[-1, :], linewidth = 3, color = 'k', linestyle='--')\n",
    "\n",
    "    #ex: plot adjusted topography from halfway through simulation (otime[65])\n",
    "    #calc difference between bedrock at time of interest and final bedrock\n",
    "    br_diff0000 = out_ds.profile__br[-1, :] - out_ds.profile__br[129, :]\n",
    "\n",
    "\n",
    "    br_diff000 = out_ds.profile__br[-1, :] - out_ds.profile__br[119, :]\n",
    "\n",
    "\n",
    "    br_diff00 = out_ds.profile__br[-1, :] - out_ds.profile__br[100, :]\n",
    "\n",
    "\n",
    "    br_diff0 = out_ds.profile__br[-1, :] - out_ds.profile__br[64, :]\n",
    "\n",
    "\n",
    "    br_diff1 = out_ds.profile__br[-1, :] - out_ds.profile__br[49, :]\n",
    "    br_diff2 = out_ds.profile__br[-1, :] - out_ds.profile__br[36, :]\n",
    "\n",
    "    br_diff3 = out_ds.profile__br[-1, :] - out_ds.profile__br[30, :]\n",
    "\n",
    "\n",
    "    br_diff4 = out_ds.profile__br[-1, :] - out_ds.profile__br[17, :]\n",
    "    plt.plot(out_ds.x, out_ds.profile__z[130, :] + br_diff0000, linewidth = 2, color = 'k', linestyle='-')\n",
    "\n",
    "    plt.plot(out_ds.x, out_ds.profile__z[119, :] + br_diff000, linewidth = 2, color = 'k', linestyle='-')\n",
    "    plt.plot(out_ds.x, out_ds.profile__z[100, :] + br_diff00, linewidth = 2, color = 'k', linestyle='-')\n",
    "    plt.plot(out_ds.x, out_ds.profile__z[64, :] + br_diff0, linewidth = 2, color = 'k', linestyle='-')\n",
    "    plt.plot(out_ds.x, out_ds.profile__z[49, :] + br_diff1, linewidth = 2, color = 'k', linestyle='-')\n",
    "    plt.plot(out_ds.x, out_ds.profile__z[36, :] + br_diff2, linewidth = 2, color = 'k', linestyle='-')\n",
    "    plt.plot(out_ds.x, out_ds.profile__z[30, :] + br_diff3, linewidth = 2, color = 'k', linestyle='-')\n",
    "    plt.plot(out_ds.x, out_ds.profile__z[17, :] + br_diff4, linewidth = 2, color = 'k', linestyle='-')\n",
    "\n",
    "    #fill in all the strata\n",
    "    plt.fill_between(out_ds.x, out_ds.profile__br[-1, :], out_ds.profile__z[17, :] + br_diff4, color = 'darkgreen')\n",
    "    plt.fill_between(out_ds.x, out_ds.profile__z[17, :] + br_diff4, out_ds.profile__z[30, :] + br_diff3, color = 'gray')\n",
    "    plt.fill_between(out_ds.x, out_ds.profile__z[30, :] + br_diff3, out_ds.profile__z[36, :] + br_diff2, color = 'lightgreen')\n",
    "    plt.fill_between(out_ds.x, out_ds.profile__z[36, :] + br_diff2, out_ds.profile__z[49, :] + br_diff1, color = 'green')\n",
    "    plt.fill_between(out_ds.x, out_ds.profile__z[49, :] + br_diff1, out_ds.profile__z[64, :] + br_diff0, color = 'yellow')\n",
    "    plt.fill_between(out_ds.x, out_ds.profile__z[64, :] + br_diff0, out_ds.profile__z[100, :] + br_diff00, color = 'orange')\n",
    "    plt.fill_between(out_ds.x, out_ds.profile__z[100, :] + br_diff00, out_ds.profile__z[119, :] + br_diff000, color = 'gold')\n",
    "    plt.fill_between(out_ds.x, out_ds.profile__z[119, :] + br_diff000, out_ds.profile__z[129, :] + br_diff0000, color = 'bisque')\n",
    "    plt.fill_between(out_ds.x, -7000, out_ds.profile__br[-1, :], color = 'k')\n",
    "    #plt.scatter(150000, sed_surfaces[8, 15], color = 'r')\n",
    "    #plt.scatter(170000, sed_surfaces[8, 17], color = 'r')\n",
    "    #plt.scatter(200000, sed_surfaces[8, 20], color = 'r')\n",
    "\n",
    "    #plt.scatter(300000, sed_surfaces[8, 30], color = 'r')\n",
    "    #plt.scatter(600000, sed_surfaces[8, 60], color = 'r', zorder = 5)\n",
    "    #plt.scatter(900000, sed_surfaces[8, 90], color = 'r')\n",
    "    #plt.plot(out_ds.x, out_ds.profile__z[-110, :], linewidth = 3, color = 'g', linestyle=':')\n",
    "\n",
    "plt.ylim(-7000, 0)\n",
    "plt.xlim(0, 1400000)\n",
    "\n",
    "#plt.ylim(-1000, 0)\n",
    "#plt.xlim(0, 100000)"
   ]
  },
  {
   "cell_type": "code",
   "execution_count": 14,
   "metadata": {},
   "outputs": [
    {
     "data": {
      "text/plain": [
       "array([4.03025294e-03, 0.00000000e+00, 0.00000000e+00, 1.70642344e+02,\n",
       "       7.64635810e+02, 1.34236642e+03, 1.91596298e+03, 2.34231239e+03,\n",
       "       2.75685639e+03, 3.24749349e+03, 3.72747479e+03, 4.02436227e+03,\n",
       "       4.06956350e+03, 3.89955706e+03, 3.60599383e+03, 3.33603816e+03,\n",
       "       3.05397633e+03, 2.71433558e+03, 2.38668640e+03, 2.11414722e+03,\n",
       "       1.90145916e+03, 1.81079952e+03, 1.82857499e+03, 1.89281164e+03,\n",
       "       1.91252261e+03, 1.98721928e+03, 2.07932548e+03, 2.08897027e+03,\n",
       "       2.08236485e+03, 2.02596177e+03, 1.94036380e+03, 1.83284510e+03,\n",
       "       1.81382003e+03, 1.76896215e+03, 1.76962783e+03, 1.71942422e+03,\n",
       "       1.68051272e+03, 1.63307910e+03, 1.55923700e+03, 1.47226562e+03,\n",
       "       1.40073098e+03, 1.33101503e+03, 1.21549288e+03, 1.16495879e+03,\n",
       "       1.12104027e+03, 1.08471743e+03, 1.05773173e+03, 1.01885954e+03,\n",
       "       9.71151419e+02, 9.09277745e+02, 8.37472792e+02, 7.91515185e+02,\n",
       "       7.66255023e+02, 6.90384175e+02, 5.97380908e+02, 4.95840253e+02,\n",
       "       4.44045147e+02, 4.15293264e+02, 4.48583577e+02, 4.80745049e+02,\n",
       "       4.58143824e+02, 4.01864356e+02, 3.36236208e+02, 3.01328147e+02,\n",
       "       2.90347201e+02, 3.36840352e+02, 3.60112403e+02, 3.94498047e+02,\n",
       "       3.74920040e+02, 3.59555255e+02, 3.43193955e+02, 2.27268092e+02,\n",
       "       1.49417220e+02, 1.51918072e+02])"
      ]
     },
     "execution_count": 14,
     "metadata": {},
     "output_type": "execute_result"
    }
   ],
   "source": [
    "np.array(out_ds.profile__h[65, :])"
   ]
  },
  {
   "cell_type": "code",
   "execution_count": 15,
   "metadata": {},
   "outputs": [
    {
     "data": {
      "text/plain": [
       "array([ 4.03025294e-03, -7.68317612e+01, -3.64395513e+02, -6.84922733e+02,\n",
       "       -6.96881264e+02, -7.10569710e+02, -7.26470115e+02, -7.45262933e+02,\n",
       "       -7.68170320e+02, -7.96914438e+02, -8.33887185e+02, -8.82434549e+02,\n",
       "       -9.43498969e+02, -9.95765016e+02, -1.03729481e+03, -1.11629952e+03,\n",
       "       -1.25898183e+03, -1.45932516e+03, -1.68955990e+03, -1.93131898e+03,\n",
       "       -2.17723624e+03, -2.42413607e+03, -2.66509526e+03, -2.89218297e+03,\n",
       "       -3.09976882e+03, -3.28968036e+03, -3.45392440e+03, -3.58448540e+03,\n",
       "       -3.68775040e+03, -3.76292291e+03, -3.82417172e+03, -3.88599332e+03,\n",
       "       -3.96523824e+03, -4.03062179e+03, -4.09613180e+03, -4.14363222e+03,\n",
       "       -4.19058319e+03, -4.23075372e+03, -4.26037183e+03, -4.28469745e+03,\n",
       "       -4.31221867e+03, -4.33712405e+03, -4.34685359e+03, -4.37679801e+03,\n",
       "       -4.40719813e+03, -4.43803187e+03, -4.46934626e+03, -4.49559951e+03,\n",
       "       -4.51746960e+03, -4.53329489e+03, -4.54532316e+03, -4.56447102e+03,\n",
       "       -4.58777329e+03, -4.59309689e+03, -4.59309896e+03, -4.59309973e+03,\n",
       "       -4.60683964e+03, -4.64486479e+03, -4.72014700e+03, -4.75107675e+03,\n",
       "       -4.76616821e+03, -4.77208782e+03, -4.77489531e+03, -4.78950935e+03,\n",
       "       -4.84133088e+03, -4.86316385e+03, -4.87959139e+03, -4.89693077e+03,\n",
       "       -4.90442130e+03, -4.91073917e+03, -4.91075230e+03, -4.91076009e+03,\n",
       "       -4.91869607e+03, -5.02325014e+03])"
      ]
     },
     "execution_count": 15,
     "metadata": {},
     "output_type": "execute_result"
    }
   ],
   "source": [
    "np.array(out_ds.profile__z[65, :])"
   ]
  },
  {
   "cell_type": "code",
   "execution_count": null,
   "metadata": {},
   "outputs": [],
   "source": []
  },
  {
   "cell_type": "code",
   "execution_count": null,
   "metadata": {},
   "outputs": [],
   "source": []
  },
  {
   "cell_type": "code",
   "execution_count": null,
   "metadata": {},
   "outputs": [],
   "source": []
  },
  {
   "cell_type": "code",
   "execution_count": null,
   "metadata": {},
   "outputs": [],
   "source": []
  },
  {
   "cell_type": "code",
   "execution_count": null,
   "metadata": {},
   "outputs": [],
   "source": []
  },
  {
   "cell_type": "code",
   "execution_count": null,
   "metadata": {},
   "outputs": [],
   "source": []
  },
  {
   "cell_type": "code",
   "execution_count": null,
   "metadata": {},
   "outputs": [],
   "source": []
  },
  {
   "cell_type": "code",
   "execution_count": null,
   "metadata": {},
   "outputs": [],
   "source": []
  },
  {
   "cell_type": "code",
   "execution_count": null,
   "metadata": {},
   "outputs": [],
   "source": []
  },
  {
   "cell_type": "code",
   "execution_count": null,
   "metadata": {},
   "outputs": [],
   "source": []
  },
  {
   "cell_type": "code",
   "execution_count": null,
   "metadata": {},
   "outputs": [],
   "source": []
  },
  {
   "cell_type": "code",
   "execution_count": null,
   "metadata": {},
   "outputs": [],
   "source": []
  },
  {
   "cell_type": "code",
   "execution_count": null,
   "metadata": {},
   "outputs": [],
   "source": []
  },
  {
   "cell_type": "code",
   "execution_count": null,
   "metadata": {},
   "outputs": [],
   "source": []
  },
  {
   "cell_type": "code",
   "execution_count": null,
   "metadata": {},
   "outputs": [],
   "source": []
  },
  {
   "cell_type": "code",
   "execution_count": null,
   "metadata": {},
   "outputs": [],
   "source": []
  },
  {
   "cell_type": "code",
   "execution_count": null,
   "metadata": {},
   "outputs": [],
   "source": []
  },
  {
   "cell_type": "code",
   "execution_count": null,
   "metadata": {},
   "outputs": [],
   "source": []
  },
  {
   "cell_type": "code",
   "execution_count": null,
   "metadata": {},
   "outputs": [],
   "source": []
  },
  {
   "cell_type": "code",
   "execution_count": null,
   "metadata": {},
   "outputs": [],
   "source": []
  },
  {
   "cell_type": "code",
   "execution_count": null,
   "metadata": {},
   "outputs": [],
   "source": []
  },
  {
   "cell_type": "code",
   "execution_count": null,
   "metadata": {},
   "outputs": [],
   "source": []
  },
  {
   "cell_type": "code",
   "execution_count": null,
   "metadata": {},
   "outputs": [],
   "source": []
  },
  {
   "cell_type": "code",
   "execution_count": null,
   "metadata": {},
   "outputs": [],
   "source": []
  },
  {
   "cell_type": "code",
   "execution_count": null,
   "metadata": {},
   "outputs": [],
   "source": []
  },
  {
   "cell_type": "code",
   "execution_count": null,
   "metadata": {},
   "outputs": [],
   "source": []
  },
  {
   "cell_type": "code",
   "execution_count": null,
   "metadata": {},
   "outputs": [],
   "source": []
  },
  {
   "cell_type": "code",
   "execution_count": null,
   "metadata": {},
   "outputs": [],
   "source": []
  },
  {
   "cell_type": "code",
   "execution_count": null,
   "metadata": {},
   "outputs": [],
   "source": []
  },
  {
   "cell_type": "code",
   "execution_count": null,
   "metadata": {},
   "outputs": [],
   "source": []
  },
  {
   "cell_type": "code",
   "execution_count": null,
   "metadata": {},
   "outputs": [],
   "source": []
  },
  {
   "cell_type": "code",
   "execution_count": null,
   "metadata": {},
   "outputs": [],
   "source": []
  },
  {
   "cell_type": "code",
   "execution_count": null,
   "metadata": {},
   "outputs": [],
   "source": []
  },
  {
   "cell_type": "code",
   "execution_count": null,
   "metadata": {},
   "outputs": [],
   "source": []
  },
  {
   "cell_type": "markdown",
   "metadata": {},
   "source": []
  },
  {
   "cell_type": "code",
   "execution_count": null,
   "metadata": {},
   "outputs": [],
   "source": []
  },
  {
   "cell_type": "code",
   "execution_count": null,
   "metadata": {},
   "outputs": [],
   "source": []
  },
  {
   "cell_type": "markdown",
   "metadata": {},
   "source": [
    "Show distributions of distance functions + compare their values pairwise in 2-d scatterplots"
   ]
  },
  {
   "cell_type": "code",
   "execution_count": null,
   "metadata": {},
   "outputs": [],
   "source": []
  },
  {
   "cell_type": "markdown",
   "metadata": {},
   "source": []
  },
  {
   "cell_type": "code",
   "execution_count": null,
   "metadata": {},
   "outputs": [],
   "source": []
  },
  {
   "cell_type": "markdown",
   "metadata": {},
   "source": [
    "Using swath profile:"
   ]
  },
  {
   "cell_type": "code",
   "execution_count": null,
   "metadata": {},
   "outputs": [],
   "source": []
  },
  {
   "cell_type": "markdown",
   "metadata": {},
   "source": [
    "Using K-S statistic on independent distributions:"
   ]
  },
  {
   "cell_type": "code",
   "execution_count": null,
   "metadata": {},
   "outputs": [],
   "source": []
  },
  {
   "cell_type": "markdown",
   "metadata": {},
   "source": [
    "Using K-S statistic on landscape index distribution:"
   ]
  },
  {
   "cell_type": "code",
   "execution_count": null,
   "metadata": {},
   "outputs": [],
   "source": []
  },
  {
   "cell_type": "markdown",
   "metadata": {},
   "source": []
  },
  {
   "cell_type": "code",
   "execution_count": null,
   "metadata": {},
   "outputs": [],
   "source": []
  },
  {
   "cell_type": "markdown",
   "metadata": {},
   "source": []
  },
  {
   "cell_type": "code",
   "execution_count": null,
   "metadata": {},
   "outputs": [],
   "source": []
  },
  {
   "cell_type": "code",
   "execution_count": null,
   "metadata": {},
   "outputs": [],
   "source": []
  },
  {
   "cell_type": "code",
   "execution_count": null,
   "metadata": {},
   "outputs": [],
   "source": []
  }
 ],
 "metadata": {
  "kernelspec": {
   "display_name": "Python [conda env:.conda-charlie-env-2]",
   "language": "python",
   "name": "conda-env-.conda-charlie-env-2-py"
  },
  "language_info": {
   "codemirror_mode": {
    "name": "ipython",
    "version": 3
   },
   "file_extension": ".py",
   "mimetype": "text/x-python",
   "name": "python",
   "nbconvert_exporter": "python",
   "pygments_lexer": "ipython3",
   "version": "3.7.6"
  }
 },
 "nbformat": 4,
 "nbformat_minor": 4
}
