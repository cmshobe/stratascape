{
 "cells": [
  {
   "cell_type": "markdown",
   "metadata": {},
   "source": [
    "### Single run of abyss"
   ]
  },
  {
   "cell_type": "code",
   "execution_count": 1,
   "metadata": {},
   "outputs": [
    {
     "data": {
      "text/plain": [
       "'/home/jupyter-cshobe/pyABC/full_inversion/orange_section_R4/step2_params'"
      ]
     },
     "execution_count": 1,
     "metadata": {},
     "output_type": "execute_result"
    }
   ],
   "source": [
    "pwd"
   ]
  },
  {
   "cell_type": "code",
   "execution_count": null,
   "metadata": {},
   "outputs": [],
   "source": []
  },
  {
   "cell_type": "markdown",
   "metadata": {},
   "source": []
  },
  {
   "cell_type": "code",
   "execution_count": null,
   "metadata": {},
   "outputs": [],
   "source": []
  },
  {
   "cell_type": "markdown",
   "metadata": {},
   "source": [
    "### Import the truth: data\n",
    "\n",
    "This will involve reading in sediment depth measurements and potentially other morphologic parameters. This should ultimately be called, in Benoit's framework, ds_out_true"
   ]
  },
  {
   "cell_type": "code",
   "execution_count": 2,
   "metadata": {},
   "outputs": [],
   "source": [
    "import numpy as np\n",
    "import matplotlib.pyplot as plt\n",
    "import pandas as pd\n",
    "import seaborn as sns\n",
    "import xarray as xr\n",
    "import xsimlab as xs"
   ]
  },
  {
   "cell_type": "markdown",
   "metadata": {},
   "source": [
    "### Define the xsimlab model\n"
   ]
  },
  {
   "cell_type": "code",
   "execution_count": 3,
   "metadata": {},
   "outputs": [],
   "source": [
    "@xs.process\n",
    "class UniformGrid1D:\n",
    "    \"\"\"Create 1D model grid with uniform spacing\"\"\"\n",
    "    \n",
    "    #grid parameters\n",
    "    spacing = xs.variable(description=\"grid_spacing\", static=True)\n",
    "    length = xs.variable(description=\"grid total length\", static=True)\n",
    "    \n",
    "    #x is an index variable, used for accessing the grid.\n",
    "    x = xs.index(dims=\"x\")\n",
    "    \n",
    "    #create the grid\n",
    "    def initialize(self):\n",
    "        self.x = np.arange(0, self.length, self.spacing)"
   ]
  },
  {
   "cell_type": "code",
   "execution_count": 4,
   "metadata": {},
   "outputs": [],
   "source": [
    "@xs.process\n",
    "class ProfileZ:\n",
    "    \"\"\"Compute the evolution of the elevation (z) profile\"\"\"\n",
    "    \n",
    "    h_vars = xs.group(\"h_vars\") #allows for multiple processes influencing; say diffusion and subsidence\n",
    "    #br_vars = xs.group(\"br_vars\") #allows for multiple processes influencing; say diffusion and subsidence\n",
    "\n",
    "    z = xs.variable(\n",
    "        dims=\"x\", intent=\"inout\", description=\"surface elevation z\", attrs={\"units\": \"m\"}\n",
    "    )\n",
    "    #br = xs.variable(\n",
    "    #    dims=[(), \"x\"], intent=\"in\", description=\"bedrock_elevation\", attrs={\"units\": \"m\"}\n",
    "    #)\n",
    "    br = xs.variable(\n",
    "        dims=[(), \"x\"], intent=\"in\", description=\"bedrock_elevation\", attrs={\"units\": \"m\"}\n",
    "    )\n",
    "    h = xs.variable(\n",
    "        dims=\"x\", intent=\"inout\", description=\"sed_thickness\", attrs={\"units\": \"m\"}\n",
    "    )\n",
    "\n",
    "    def run_step(self):\n",
    "        #self._delta_br = sum((br for br in self.br_vars))\n",
    "        self._delta_h = sum((h for h in self.h_vars))\n",
    "\n",
    "    def finalize_step(self):\n",
    "        #self.br += self._delta_br #update bedrock surface\n",
    "        self.h += self._delta_h #update sediment thickness\n",
    "        self.z = self.br + self.h #add sediment to bedrock to get topo elev."
   ]
  },
  {
   "cell_type": "code",
   "execution_count": 5,
   "metadata": {},
   "outputs": [],
   "source": [
    "@xs.process\n",
    "class ErosionDeposition:\n",
    "    \"\"\"Here's where the actual computation happens: nonlocal diffusion\n",
    "\n",
    "    \"\"\"\n",
    "    \n",
    "    #get input parameters\n",
    "    sea_level = xs.variable(description=\"sea level\")\n",
    "    k_factor = xs.variable(description=\"k factor\")\n",
    "    k_depth_scale = xs.variable(description=\"k depth scale\")\n",
    "    travel_dist = xs.variable(description=\"marine_travel_distance\")\n",
    "    s_crit = xs.variable(description=\"marine_critical_slope\")\n",
    "    sed_porosity = xs.variable(description=\"marine_sediment_porosity\")\n",
    "    sed_porosity_depth_scale = xs.variable(description=\"marine_sediment_porosity_depth_scale\")\n",
    "    qs_in = xs.variable(description=\"sediment_flux_in\")\n",
    "    \n",
    "    slope = xs.variable(\n",
    "        dims=\"x\", intent=\"out\", description=\"topographic_slope\", attrs={\"units\": \"-\"}\n",
    "    )\n",
    "    depth = xs.variable(\n",
    "        dims=\"x\", intent=\"out\", description=\"depth\", attrs={\"units\": \"m\"}\n",
    "    )\n",
    "    erosion = xs.variable(\n",
    "        dims=\"x\", intent=\"out\", description=\"erosion\", attrs={\"units\": \"m/yr\"}\n",
    "    )\n",
    "    deposition = xs.variable(\n",
    "        dims=\"x\", intent=\"out\", description=\"deposition\", attrs={\"units\": \"m/yr\"}\n",
    "    )\n",
    "    dh_dt = xs.variable(\n",
    "        dims=\"x\", intent=\"out\", description=\"dh_dt\", attrs={\"units\": \"m/yr\"}\n",
    "    )\n",
    "    qs = xs.variable(\n",
    "        dims=\"x\", intent=\"out\", description=\"qs\", attrs={\"units\": \"m2/yr\"}\n",
    "    )\n",
    "    #dbr = xs.variable(dims=\"x\", intent=\"out\", groups=\"br_vars\")\n",
    "    dh = xs.variable(dims=\"x\", intent=\"out\", groups=\"h_vars\")\n",
    "    \n",
    "    spacing = xs.foreign(UniformGrid1D, \"spacing\")\n",
    "    #x = xs.foreign(UniformGrid1D, \"x\")\n",
    "    z = xs.foreign(ProfileZ, \"z\")\n",
    "    br = xs.foreign(ProfileZ, \"br\")\n",
    "    h = xs.foreign(ProfileZ, \"h\")\n",
    "    \n",
    "    @xs.runtime(args=\"step_delta\")\n",
    "    def run_step(self, dt):\n",
    "\n",
    "        self.erosion = np.repeat(0., len(self.z))\n",
    "        self.deposition = np.repeat(0., len(self.z))\n",
    "        self.dh_dt = np.repeat(0., len(self.z))\n",
    "        self.qs = np.repeat(0., len(self.z))\n",
    "        self.dh = np.repeat(0., len(self.z))\n",
    "        \n",
    "        #calculate topographic slope\n",
    "        self.slope = np.append(np.diff(self.z) / self.spacing, 0)\n",
    "        #calculate depth below water\n",
    "        self.depth = np.maximum(self.sea_level - self.z, 0)\n",
    "        \n",
    "        #calculate k array\n",
    "        k_arr = self.k_factor * np.exp(-self.depth / self.k_depth_scale)\n",
    "        \n",
    "        #impose hard basin floor\n",
    "        k_arr[self.z <= (self.br + 0.001)] = 0\n",
    "        \n",
    "        #find first marine node\n",
    "        marine_or_terrestrial = self.z <= self.sea_level #boolean: true is marine\n",
    "        first_marine_node = np.argmax(marine_or_terrestrial) #finds the first true\n",
    "        \n",
    "        #evolve first marine node\n",
    "        if self.slope[first_marine_node] <= 0: #this is the \"regular,\" right-draining case\n",
    "            self.erosion[first_marine_node] = k_arr[first_marine_node] * np.abs(self.slope[first_marine_node])\n",
    "            self.deposition[first_marine_node] = (self.qs_in * (1 - np.minimum(1, np.power(self.slope[first_marine_node] / self.s_crit, 2)))) / self.travel_dist\n",
    "\n",
    "        else:  #this is the irregular, left-draining case\n",
    "            self.erosion[first_marine_node] = 0 #because slope = 0\n",
    "            self.deposition[first_marine_node] = self.qs_in / self.spacing #(self.qs_in * (1 + np.minimum(1, np.power(self.slope[first_marine_node] / self.s_crit, 2)))) / self.travel_dist #because slope = 0 #self.qs_in / self.travel_dist\n",
    "        self.dh_dt[first_marine_node] = (-self.erosion[first_marine_node] + self.deposition[first_marine_node]) / (1 - self.sed_porosity)\n",
    "        self.dh[first_marine_node] = self.dh_dt[first_marine_node] * dt\n",
    "        self.qs[first_marine_node] = np.maximum(qs_in + (self.erosion[first_marine_node] - self.deposition[first_marine_node]) * self.spacing, 0.)\n",
    "        if -self.dh[first_marine_node] > self.h[first_marine_node]:\n",
    "            self.dh[first_marine_node] = -self.h[first_marine_node]\n",
    "            self.qs[first_marine_node] = np.maximum(qs_in + ((-self.dh[first_marine_node] / dt) * (1 - self.sed_porosity)) * self.spacing, 0.)\n",
    "        \n",
    "        #evolve remaining marine nodes\n",
    "        for i in range(first_marine_node + 1, len(self.z)): #iterate over each element of x ONLY IN THE MARINE\n",
    "        \n",
    "            if self.slope[i] <= 0: #this is the \"regular,\" right-draining case\n",
    "                self.deposition[i] = (self.qs[i-1] * (1 - np.minimum(1, np.power(self.slope[i] / self.s_crit, 2)))) / self.travel_dist\n",
    "                self.erosion[i] = k_arr[i] * np.abs(self.slope[i])\n",
    "                if self.z[i] > self.sea_level:\n",
    "                    self.deposition[i] = 0\n",
    "            else: #this is the irregular, left-draining case\n",
    "                self.deposition[i] = self.qs[i-1] / self.spacing#(self.qs[i-1] * (1 + np.minimum(1, np.power(self.slope[i] / self.s_crit, 2)))) / self.spacing#self.travel_dist #self.qs[i-1] / self.spacing\n",
    "                self.erosion[i] = 0\n",
    "                if self.z[i] > self.sea_level:\n",
    "                    self.deposition[i] = 0\n",
    "            self.dh_dt[i] = (-self.erosion[i] + self.deposition[i]) / (1 - self.sed_porosity)\n",
    "            \n",
    "            self.dh[i] = self.dh_dt[i] * dt\n",
    "            \n",
    "            self.qs[i] = np.maximum(self.qs[i-1] + (self.erosion[i] - self.deposition[i]) * self.spacing, 0.)\n",
    "            \n",
    "            if -self.dh[i] > self.h[i]:\n",
    "                self.dh[i] = -self.h[i]\n",
    "                self.qs[i] = np.maximum(self.qs[i-1] + ((-self.dh[i] / dt) * (1 - self.sed_porosity)) * self.spacing, 0.)\n",
    "            \n",
    "        #calculate change in sed thickness\n",
    "        #self.dh[:first_marine_node] = 0\n",
    "        #self.dh[first_marine_node:] = self.dh_dt[first_marine_node:] * dt\n",
    "        #self.dh[self.erosion > self.h] = -self.h[self.erosion > self.h] #if erosion is greater than h, topo only loses h    \n",
    "        \n",
    "        #compact sediment\n",
    "        #calculate the thickness after compaction, z0; dh is the thickness of new deposited solid sediment\n",
    "        dh_compact = self.dh * (1 - self.sed_porosity)\n",
    "    \n",
    "        \n",
    "        #compaction routine\n",
    "        #def compaction(porosity, porosity_depth_scale, nn, dh, zi):\n",
    "        nn = len(self.z)\n",
    "        z0 = np.zeros(nn)\n",
    "        #set initial guess for z0:\n",
    "        z0[:] = self.h[:]\n",
    "\n",
    "        #Newton-Raphson iteration  at every node\n",
    "        for k in range(nn):\n",
    "            fx = 1 #throwaway initial value to trigger \"while\" loop\n",
    "            dfx = 1 #throwaway initial value to trigger \"while\" loop\n",
    "            #check whether we're at the root\n",
    "            if dh_compact[k] > 0 : #only apply compaction where deposition is happening\n",
    "                while np.abs(fx / dfx) > 1e-6:\n",
    "                    #calculate value of function at initial guess\n",
    "                    fx = z0[k] - self.h[k] + self.sed_porosity * self.sed_porosity_depth_scale * (np.exp(-z0[k] / self.sed_porosity_depth_scale) - np.exp(-self.h[k] / self.sed_porosity_depth_scale)) - dh_compact[k]\n",
    "        \n",
    "                    #calculate derivative\n",
    "                    dfx = 1 - self.sed_porosity * np.exp(-z0[k] / self.sed_porosity_depth_scale)\n",
    "                    z0[k] = z0[k] - fx / dfx\n",
    "\n",
    "            elif dh_compact[k] == 0: #no e or d\n",
    "                z0[k] = self.h[k]\n",
    "            else: #in the case where erosion happens, the sediment surface shouldn't rebound. \n",
    "                z0[k] = self.h[k] + dh_compact[k] / (1 - self.sed_porosity)\n",
    "        \n",
    "        #here, have a chance to set the final dh by differencing new h (z0) and old h (h)\n",
    "        self.dh[:] = z0[:] - self.h[:]\n",
    "        \n",
    "        #finalize changes to bedrock (subsidence) and sediment thickness (e/d)\n",
    "        #self.dbr = (self.subsidence * dt)"
   ]
  },
  {
   "cell_type": "code",
   "execution_count": 6,
   "metadata": {},
   "outputs": [],
   "source": [
    "@xs.process\n",
    "class InitBasinGeom:\n",
    "    \"\"\"\n",
    "    Give initial basin elevation field as a function of x:\n",
    "    z = exp(- (x - a) / b) + c\n",
    "    \"\"\"\n",
    "    \n",
    "    #a = xs.variable(description=\"shift parameter\", static=True)\n",
    "    #b = xs.variable(description=\"scale parameter\", static=True)\n",
    "    #c = xs.variable(description=\"initial basin floor altitude\", static=True)\n",
    "    #d = xs.variable(description=\"x multiplier\", static=True)\n",
    "\n",
    "    init_br = xs.variable(dims=\"x\", description=\"shift parameter\", static=True)\n",
    "    \n",
    "    x = xs.foreign(UniformGrid1D, \"x\")\n",
    "    z = xs.foreign(ProfileZ, \"z\", intent=\"out\")\n",
    "    #br = xs.foreign(ProfileZ, \"br\", intent=\"in\")\n",
    "    h = xs.foreign(ProfileZ, \"h\", intent=\"out\")\n",
    "\n",
    "    def initialize(self):\n",
    "        #self.br = np.exp(- (self.x * self.d - self.a) / self.b) + self.c #build the initial topography\n",
    "        self.h = np.zeros(len(self.x)) #initial sediment thickness is 0\n",
    "        self.z = np.zeros(len(self.x)) + self.init_br #self.br#(np.exp(- (self.x * self.d - self.a) / self.b) + self.c) + self.h"
   ]
  },
  {
   "cell_type": "code",
   "execution_count": 7,
   "metadata": {},
   "outputs": [],
   "source": [
    "marine = xs.Model(\n",
    "    {\n",
    "        \"grid\": UniformGrid1D,\n",
    "        \"profile\": ProfileZ,\n",
    "        \"init\": InitBasinGeom,\n",
    "        \"erode\": ErosionDeposition,\n",
    "    }\n",
    ")"
   ]
  },
  {
   "cell_type": "code",
   "execution_count": 8,
   "metadata": {},
   "outputs": [
    {
     "data": {
      "image/png": "[encoded data removed]",
      "text/plain": [
       "<IPython.core.display.Image object>"
      ]
     },
     "execution_count": 8,
     "metadata": {},
     "output_type": "execute_result"
    }
   ],
   "source": [
    "marine.visualize(show_inputs=True)"
   ]
  },
  {
   "cell_type": "code",
   "execution_count": 9,
   "metadata": {},
   "outputs": [],
   "source": [
    "#need to import basement elevation and qs time series after they were exported by the prepro notebook\n",
    "bedrock_file = '../prepro/bedrock_elev_array.npy'\n",
    "br = np.load(bedrock_file)\n",
    "bedrock_elev_array = xr.DataArray(br, dims=['time', 'x'])\n",
    "initial_bedrock = bedrock_elev_array[0, :]\n",
    "\n",
    "qs_file = '../prepro/qs_array.npy'\n",
    "qs_array = np.load(qs_file)\n",
    "qs_array = xr.DataArray(qs_array, dims=['time'])\n",
    "#this is loading in the full m3/yr numbers directly from Baby et al 2019.\n",
    "\n",
    "#so need to divide by the basin width before piping it into the model.\n",
    "#import best-fit basin width from pyABC inference\n",
    "basin_width_file = '../step1_qs_in/best_fit_basin_width.npy'\n",
    "basin_width = np.load(basin_width_file)[0] #first and only element of array\n",
    "qs_array = qs_array[:] / basin_width #now we're in the right units for the model"
   ]
  },
  {
   "cell_type": "code",
   "execution_count": 10,
   "metadata": {},
   "outputs": [
    {
     "data": {
      "text/plain": [
       "[<matplotlib.lines.Line2D at 0x7ff4c730a850>]"
      ]
     },
     "execution_count": 10,
     "metadata": {},
     "output_type": "execute_result"
    },
    {
     "data": {
      "image/png": "[encoded data removed]",
      "text/plain": [
       "<Figure size 432x288 with 1 Axes>"
      ]
     },
     "metadata": {
      "needs_background": "light"
     },
     "output_type": "display_data"
    }
   ],
   "source": [
    "x = np.arange(0, 1400000, 10000)\n",
    "plt.plot(x,bedrock_elev_array[0, :])"
   ]
  },
  {
   "cell_type": "code",
   "execution_count": 11,
   "metadata": {},
   "outputs": [],
   "source": [
    "#read in best fit params:\n",
    "best_fit_params = np.load('best_fit_params.npy')\n",
    "travel_distance = best_fit_params[0]\n",
    "k_factor = best_fit_params[1]\n",
    "k_depth_scale = best_fit_params[2]\n",
    "critical_slope = best_fit_params[3]"
   ]
  },
  {
   "cell_type": "code",
   "execution_count": 12,
   "metadata": {},
   "outputs": [
    {
     "data": {
      "text/plain": [
       "0.0405738874560752"
      ]
     },
     "execution_count": 12,
     "metadata": {},
     "output_type": "execute_result"
    }
   ],
   "source": [
    "critical_slope"
   ]
  },
  {
   "cell_type": "code",
   "execution_count": 13,
   "metadata": {},
   "outputs": [],
   "source": [
    "in_ds = xs.create_setup(\n",
    "   ...:     model=marine,\n",
    "   ...:     clocks={\n",
    "   ...:         'time': np.arange(0, 130000000, 1000),\n",
    "   ...:         'otime': np.append(np.arange(0, 130000000, 1000000), 129999000) #np.array([19999000])\n",
    "   ...:     },\n",
    "   ...:     master_clock='time',\n",
    "   ...:     input_vars={\n",
    "   ...:         'grid': {'length': 1400000., 'spacing': 10000.},\n",
    "                'init': {'init_br': initial_bedrock},\n",
    "                'erode': {\n",
    "                    'k_factor': k_factor,\n",
    "                    'k_depth_scale': k_depth_scale,\n",
    "                    's_crit': critical_slope,\n",
    "                    'travel_dist': travel_distance,\n",
    "                    'sed_porosity': 0.56,\n",
    "                    'sed_porosity_depth_scale': 2830.,\n",
    "                    'sea_level': 0.,\n",
    "                    'qs_in': qs_array,\n",
    "                },\n",
    "                'profile': {\n",
    "                    'br': bedrock_elev_array\n",
    "                },\n",
    "   },\n",
    "            output_vars={'profile__z': 'otime', 'profile__br': 'otime', 'profile__h': 'otime'}\n",
    ")"
   ]
  },
  {
   "cell_type": "code",
   "execution_count": null,
   "metadata": {},
   "outputs": [],
   "source": []
  },
  {
   "cell_type": "markdown",
   "metadata": {},
   "source": []
  },
  {
   "cell_type": "code",
   "execution_count": null,
   "metadata": {},
   "outputs": [],
   "source": [
    "\n"
   ]
  },
  {
   "cell_type": "markdown",
   "metadata": {},
   "source": [
    "### Here we import the data that will be used to calculate model misfit"
   ]
  },
  {
   "cell_type": "code",
   "execution_count": 14,
   "metadata": {},
   "outputs": [],
   "source": [
    "sed_surfaces = np.load('../prepro/all_surfaces.npy')\n",
    "top_surface = sed_surfaces[-1, :] #this is the top of the U8 surface\n",
    "br_surface = sed_surfaces[0, :]\n",
    "\n"
   ]
  },
  {
   "cell_type": "markdown",
   "metadata": {},
   "source": []
  },
  {
   "cell_type": "code",
   "execution_count": null,
   "metadata": {},
   "outputs": [],
   "source": []
  },
  {
   "cell_type": "code",
   "execution_count": 15,
   "metadata": {},
   "outputs": [
    {
     "data": {
      "text/plain": [
       "array([1.94424180e+05, 8.44600432e-01, 5.57919604e+01, 4.05738875e-02])"
      ]
     },
     "execution_count": 15,
     "metadata": {},
     "output_type": "execute_result"
    }
   ],
   "source": [
    "best_fit_params"
   ]
  },
  {
   "cell_type": "code",
   "execution_count": null,
   "metadata": {},
   "outputs": [],
   "source": []
  },
  {
   "cell_type": "markdown",
   "metadata": {},
   "source": []
  },
  {
   "cell_type": "code",
   "execution_count": null,
   "metadata": {},
   "outputs": [],
   "source": []
  },
  {
   "cell_type": "markdown",
   "metadata": {},
   "source": []
  },
  {
   "cell_type": "code",
   "execution_count": null,
   "metadata": {},
   "outputs": [],
   "source": []
  },
  {
   "cell_type": "code",
   "execution_count": null,
   "metadata": {},
   "outputs": [],
   "source": []
  },
  {
   "cell_type": "markdown",
   "metadata": {},
   "source": []
  },
  {
   "cell_type": "code",
   "execution_count": null,
   "metadata": {},
   "outputs": [],
   "source": []
  },
  {
   "cell_type": "markdown",
   "metadata": {},
   "source": []
  },
  {
   "cell_type": "code",
   "execution_count": null,
   "metadata": {},
   "outputs": [],
   "source": []
  },
  {
   "cell_type": "code",
   "execution_count": null,
   "metadata": {},
   "outputs": [],
   "source": []
  },
  {
   "cell_type": "code",
   "execution_count": null,
   "metadata": {},
   "outputs": [],
   "source": []
  },
  {
   "cell_type": "markdown",
   "metadata": {},
   "source": []
  },
  {
   "cell_type": "code",
   "execution_count": null,
   "metadata": {},
   "outputs": [],
   "source": []
  },
  {
   "cell_type": "code",
   "execution_count": 16,
   "metadata": {},
   "outputs": [
    {
     "ename": "ValueError",
     "evalue": "Zarr path  already contains the following datasets: profile__z,profile__br,profile__h",
     "output_type": "error",
     "traceback": [
      "\u001b[0;31m---------------------------------------------------------------------------\u001b[0m",
      "\u001b[0;31mValueError\u001b[0m                                Traceback (most recent call last)",
      "\u001b[0;32m<ipython-input-16-9e2448502a1b>\u001b[0m in \u001b[0;36m<module>\u001b[0;34m\u001b[0m\n\u001b[1;32m      1\u001b[0m \u001b[0;32mwith\u001b[0m \u001b[0mmarine\u001b[0m\u001b[0;34m:\u001b[0m\u001b[0;34m\u001b[0m\u001b[0;34m\u001b[0m\u001b[0m\n\u001b[0;32m----> 2\u001b[0;31m     \u001b[0mout_ds\u001b[0m \u001b[0;34m=\u001b[0m \u001b[0min_ds\u001b[0m\u001b[0;34m.\u001b[0m\u001b[0mxsimlab\u001b[0m\u001b[0;34m.\u001b[0m\u001b[0mrun\u001b[0m\u001b[0;34m(\u001b[0m\u001b[0mstore\u001b[0m\u001b[0;34m=\u001b[0m\u001b[0;34m\"bestfit_param_simulation_002.zarr\"\u001b[0m\u001b[0;34m)\u001b[0m\u001b[0;34m\u001b[0m\u001b[0;34m\u001b[0m\u001b[0m\n\u001b[0m",
      "\u001b[0;32m~/.conda/envs/charlie-env-2/lib/python3.7/site-packages/xsimlab/xr_accessor.py\u001b[0m in \u001b[0;36mrun\u001b[0;34m(self, model, batch_dim, check_dims, validate, store, encoding, hooks, parallel, scheduler, safe_mode)\u001b[0m\n\u001b[1;32m    811\u001b[0m             \u001b[0mhooks\u001b[0m\u001b[0;34m=\u001b[0m\u001b[0mhooks\u001b[0m\u001b[0;34m,\u001b[0m\u001b[0;34m\u001b[0m\u001b[0;34m\u001b[0m\u001b[0m\n\u001b[1;32m    812\u001b[0m             \u001b[0mparallel\u001b[0m\u001b[0;34m=\u001b[0m\u001b[0mparallel\u001b[0m\u001b[0;34m,\u001b[0m\u001b[0;34m\u001b[0m\u001b[0;34m\u001b[0m\u001b[0m\n\u001b[0;32m--> 813\u001b[0;31m             \u001b[0mscheduler\u001b[0m\u001b[0;34m=\u001b[0m\u001b[0mscheduler\u001b[0m\u001b[0;34m,\u001b[0m\u001b[0;34m\u001b[0m\u001b[0;34m\u001b[0m\u001b[0m\n\u001b[0m\u001b[1;32m    814\u001b[0m         )\n\u001b[1;32m    815\u001b[0m \u001b[0;34m\u001b[0m\u001b[0m\n",
      "\u001b[0;32m~/.conda/envs/charlie-env-2/lib/python3.7/site-packages/xsimlab/drivers.py\u001b[0m in \u001b[0;36m__init__\u001b[0;34m(self, dataset, model, batch_dim, store, encoding, check_dims, validate, hooks, parallel, scheduler)\u001b[0m\n\u001b[1;32m    421\u001b[0m             \u001b[0mencoding\u001b[0m\u001b[0;34m=\u001b[0m\u001b[0mencoding\u001b[0m\u001b[0;34m,\u001b[0m\u001b[0;34m\u001b[0m\u001b[0;34m\u001b[0m\u001b[0m\n\u001b[1;32m    422\u001b[0m             \u001b[0mbatch_dim\u001b[0m\u001b[0;34m=\u001b[0m\u001b[0mbatch_dim\u001b[0m\u001b[0;34m,\u001b[0m\u001b[0;34m\u001b[0m\u001b[0;34m\u001b[0m\u001b[0m\n\u001b[0;32m--> 423\u001b[0;31m             \u001b[0mlock\u001b[0m\u001b[0;34m=\u001b[0m\u001b[0mlock\u001b[0m\u001b[0;34m,\u001b[0m\u001b[0;34m\u001b[0m\u001b[0;34m\u001b[0m\u001b[0m\n\u001b[0m\u001b[1;32m    424\u001b[0m         )\n\u001b[1;32m    425\u001b[0m \u001b[0;34m\u001b[0m\u001b[0m\n",
      "\u001b[0;32m~/.conda/envs/charlie-env-2/lib/python3.7/site-packages/xsimlab/stores.py\u001b[0m in \u001b[0;36m__init__\u001b[0;34m(self, dataset, model, zobject, encoding, batch_dim, lock)\u001b[0m\n\u001b[1;32m    140\u001b[0m         \u001b[0;31m# ensure no dataset conflict in zarr group\u001b[0m\u001b[0;34m\u001b[0m\u001b[0;34m\u001b[0m\u001b[0;34m\u001b[0m\u001b[0m\n\u001b[1;32m    141\u001b[0m         \u001b[0mznames\u001b[0m \u001b[0;34m=\u001b[0m \u001b[0;34m[\u001b[0m\u001b[0mvi\u001b[0m\u001b[0;34m[\u001b[0m\u001b[0;34m\"name\"\u001b[0m\u001b[0;34m]\u001b[0m \u001b[0;32mfor\u001b[0m \u001b[0mvi\u001b[0m \u001b[0;32min\u001b[0m \u001b[0mself\u001b[0m\u001b[0;34m.\u001b[0m\u001b[0mvar_info\u001b[0m\u001b[0;34m.\u001b[0m\u001b[0mvalues\u001b[0m\u001b[0;34m(\u001b[0m\u001b[0;34m)\u001b[0m\u001b[0;34m]\u001b[0m\u001b[0;34m\u001b[0m\u001b[0;34m\u001b[0m\u001b[0m\n\u001b[0;32m--> 142\u001b[0;31m         \u001b[0mensure_no_dataset_conflict\u001b[0m\u001b[0;34m(\u001b[0m\u001b[0mself\u001b[0m\u001b[0;34m.\u001b[0m\u001b[0mzgroup\u001b[0m\u001b[0;34m,\u001b[0m \u001b[0mznames\u001b[0m\u001b[0;34m)\u001b[0m\u001b[0;34m\u001b[0m\u001b[0;34m\u001b[0m\u001b[0m\n\u001b[0m\u001b[1;32m    143\u001b[0m \u001b[0;34m\u001b[0m\u001b[0m\n\u001b[1;32m    144\u001b[0m         \u001b[0;32mif\u001b[0m \u001b[0mlock\u001b[0m \u001b[0;32mis\u001b[0m \u001b[0;32mNone\u001b[0m\u001b[0;34m:\u001b[0m\u001b[0;34m\u001b[0m\u001b[0;34m\u001b[0m\u001b[0m\n",
      "\u001b[0;32m~/.conda/envs/charlie-env-2/lib/python3.7/site-packages/xsimlab/stores.py\u001b[0m in \u001b[0;36mensure_no_dataset_conflict\u001b[0;34m(zgroup, znames)\u001b[0m\n\u001b[1;32m     54\u001b[0m         raise ValueError(\n\u001b[1;32m     55\u001b[0m             \u001b[0;34mf\"Zarr path {zgroup.path} already contains the following datasets: \"\u001b[0m\u001b[0;34m\u001b[0m\u001b[0;34m\u001b[0m\u001b[0m\n\u001b[0;32m---> 56\u001b[0;31m             \u001b[0;34m+\u001b[0m \u001b[0;34m\",\"\u001b[0m\u001b[0;34m.\u001b[0m\u001b[0mjoin\u001b[0m\u001b[0;34m(\u001b[0m\u001b[0mexisting_datasets\u001b[0m\u001b[0;34m)\u001b[0m\u001b[0;34m\u001b[0m\u001b[0;34m\u001b[0m\u001b[0m\n\u001b[0m\u001b[1;32m     57\u001b[0m         )\n\u001b[1;32m     58\u001b[0m \u001b[0;34m\u001b[0m\u001b[0m\n",
      "\u001b[0;31mValueError\u001b[0m: Zarr path  already contains the following datasets: profile__z,profile__br,profile__h"
     ]
    }
   ],
   "source": [
    "with marine: \n",
    "    out_ds = in_ds.xsimlab.run(store=\"bestfit_param_simulation_002.zarr\")"
   ]
  },
  {
   "cell_type": "markdown",
   "metadata": {},
   "source": []
  },
  {
   "cell_type": "code",
   "execution_count": null,
   "metadata": {},
   "outputs": [],
   "source": [
    "batch_flag=0\n",
    "if batch_flag == 1:\n",
    "    for i in range(n_runs):\n",
    "\n",
    "        #plot stratigraphy adjusted for later subsidence\n",
    "        plt.figure(figsize=(22,2))\n",
    "        final_bedrock = plt.plot(out_ds.x, out_ds.profile__br[i,-1, :], linewidth = 3, color = 'k')\n",
    "\n",
    "    #ex: plot adjusted topography from halfway through simulation (otime[65])\n",
    "    #calc difference between bedrock at time of interest and final bedrock\n",
    "        br_diff0000 = out_ds.profile__br[i,-1, :] - out_ds.profile__br[i,129, :]\n",
    "        br_diff000 = out_ds.profile__br[i,-1, :] - out_ds.profile__br[i,119, :]\n",
    "        br_diff00 = out_ds.profile__br[i,-1, :] - out_ds.profile__br[i,100, :]\n",
    "        br_diff0 = out_ds.profile__br[i,-1, :] - out_ds.profile__br[i,64, :]\n",
    "        br_diff1 = out_ds.profile__br[i,-1, :] - out_ds.profile__br[i,49, :]\n",
    "        br_diff2 = out_ds.profile__br[i,-1, :] - out_ds.profile__br[i,36, :]\n",
    "        br_diff3 = out_ds.profile__br[i,-1, :] - out_ds.profile__br[i,30, :]\n",
    "        br_diff4 = out_ds.profile__br[i,-1, :] - out_ds.profile__br[i,17, :]\n",
    "        plt.plot(out_ds.x, out_ds.profile__z[i,129, :] + br_diff0000, linewidth = 2, color = 'k', linestyle='-')\n",
    "        plt.plot(out_ds.x, out_ds.profile__z[i,119, :] + br_diff000, linewidth = 2, color = 'k', linestyle='-')\n",
    "        plt.plot(out_ds.x, out_ds.profile__z[i,100, :] + br_diff00, linewidth = 2, color = 'k', linestyle='-')\n",
    "        plt.plot(out_ds.x, out_ds.profile__z[i,64, :] + br_diff0, linewidth = 2, color = 'k', linestyle='-')\n",
    "        plt.plot(out_ds.x, out_ds.profile__z[i,49, :] + br_diff1, linewidth = 2, color = 'k', linestyle='-')\n",
    "        plt.plot(out_ds.x, out_ds.profile__z[i,36, :] + br_diff2, linewidth = 2, color = 'k', linestyle='-')\n",
    "        plt.plot(out_ds.x, out_ds.profile__z[i,30, :] + br_diff3, linewidth = 2, color = 'k', linestyle='-')\n",
    "        plt.plot(out_ds.x, out_ds.profile__z[i,17, :] + br_diff4, linewidth = 2, color = 'k', linestyle='-')\n",
    "\n",
    "        #fill in all the strata\n",
    "        plt.fill_between(out_ds.x, out_ds.profile__br[i,-1, :], out_ds.profile__z[i,17, :] + br_diff4, color = 'darkgreen')\n",
    "        plt.fill_between(out_ds.x, out_ds.profile__z[i,17, :] + br_diff4, out_ds.profile__z[i,30, :] + br_diff3, color = 'gray')\n",
    "        plt.fill_between(out_ds.x, out_ds.profile__z[i,30, :] + br_diff3, out_ds.profile__z[i,36, :] + br_diff2, color = 'lightgreen')\n",
    "        plt.fill_between(out_ds.x, out_ds.profile__z[i,36, :] + br_diff2, out_ds.profile__z[i,49, :] + br_diff1, color = 'green')\n",
    "        plt.fill_between(out_ds.x, out_ds.profile__z[i,49, :] + br_diff1, out_ds.profile__z[i,64, :] + br_diff0, color = 'yellow')\n",
    "        plt.fill_between(out_ds.x, out_ds.profile__z[i,64, :] + br_diff0, out_ds.profile__z[i,100, :] + br_diff00, color = 'orange')\n",
    "        plt.fill_between(out_ds.x, out_ds.profile__z[i,100, :] + br_diff00, out_ds.profile__z[i,119, :] + br_diff000, color = 'gold')\n",
    "        plt.fill_between(out_ds.x, out_ds.profile__z[i,119, :] + br_diff000, out_ds.profile__z[i,129, :] + br_diff0000, color = 'bisque')\n",
    "        plt.fill_between(out_ds.x, -7000, out_ds.profile__br[i,-1, :], color = 'k')\n",
    "\n",
    "else: #not batched\n",
    "    #plot stratigraphy adjusted for later subsidence\n",
    "    plt.figure(figsize=(22,4))\n",
    "    final_bedrock = plt.plot(out_ds.x, out_ds.profile__br[-1, :], linewidth = 3, color = 'k')\n",
    "    #plt.plot(out_ds.x, out_ds.profile__z[-1, :], linewidth = 3, color = 'k', linestyle='--')\n",
    "\n",
    "    #ex: plot adjusted topography from halfway through simulation (otime[65])\n",
    "    #calc difference between bedrock at time of interest and final bedrock\n",
    "    br_diff0000 = out_ds.profile__br[-1, :] - out_ds.profile__br[129, :]\n",
    "\n",
    "\n",
    "    br_diff000 = out_ds.profile__br[-1, :] - out_ds.profile__br[119, :]\n",
    "\n",
    "\n",
    "    br_diff00 = out_ds.profile__br[-1, :] - out_ds.profile__br[100, :]\n",
    "\n",
    "\n",
    "    br_diff0 = out_ds.profile__br[-1, :] - out_ds.profile__br[64, :]\n",
    "\n",
    "\n",
    "    br_diff1 = out_ds.profile__br[-1, :] - out_ds.profile__br[49, :]\n",
    "    br_diff2 = out_ds.profile__br[-1, :] - out_ds.profile__br[36, :]\n",
    "\n",
    "    br_diff3 = out_ds.profile__br[-1, :] - out_ds.profile__br[30, :]\n",
    "\n",
    "\n",
    "    br_diff4 = out_ds.profile__br[-1, :] - out_ds.profile__br[17, :]\n",
    "    plt.plot(out_ds.x, out_ds.profile__z[130, :] + br_diff0000, linewidth = 2, color = 'k', linestyle='-')\n",
    "\n",
    "    plt.plot(out_ds.x, out_ds.profile__z[119, :] + br_diff000, linewidth = 2, color = 'k', linestyle='-')\n",
    "    plt.plot(out_ds.x, out_ds.profile__z[100, :] + br_diff00, linewidth = 2, color = 'k', linestyle='-')\n",
    "    plt.plot(out_ds.x, out_ds.profile__z[64, :] + br_diff0, linewidth = 2, color = 'k', linestyle='-')\n",
    "    plt.plot(out_ds.x, out_ds.profile__z[49, :] + br_diff1, linewidth = 2, color = 'k', linestyle='-')\n",
    "    plt.plot(out_ds.x, out_ds.profile__z[36, :] + br_diff2, linewidth = 2, color = 'k', linestyle='-')\n",
    "    plt.plot(out_ds.x, out_ds.profile__z[30, :] + br_diff3, linewidth = 2, color = 'k', linestyle='-')\n",
    "    plt.plot(out_ds.x, out_ds.profile__z[17, :] + br_diff4, linewidth = 2, color = 'k', linestyle='-')\n",
    "\n",
    "    #fill in all the strata\n",
    "    plt.fill_between(out_ds.x, out_ds.profile__br[-1, :], out_ds.profile__z[17, :] + br_diff4, color = 'darkgreen')\n",
    "    plt.fill_between(out_ds.x, out_ds.profile__z[17, :] + br_diff4, out_ds.profile__z[30, :] + br_diff3, color = 'gray')\n",
    "    plt.fill_between(out_ds.x, out_ds.profile__z[30, :] + br_diff3, out_ds.profile__z[36, :] + br_diff2, color = 'lightgreen')\n",
    "    plt.fill_between(out_ds.x, out_ds.profile__z[36, :] + br_diff2, out_ds.profile__z[49, :] + br_diff1, color = 'green')\n",
    "    plt.fill_between(out_ds.x, out_ds.profile__z[49, :] + br_diff1, out_ds.profile__z[64, :] + br_diff0, color = 'yellow')\n",
    "    plt.fill_between(out_ds.x, out_ds.profile__z[64, :] + br_diff0, out_ds.profile__z[100, :] + br_diff00, color = 'orange')\n",
    "    plt.fill_between(out_ds.x, out_ds.profile__z[100, :] + br_diff00, out_ds.profile__z[119, :] + br_diff000, color = 'gold')\n",
    "    plt.fill_between(out_ds.x, out_ds.profile__z[119, :] + br_diff000, out_ds.profile__z[129, :] + br_diff0000, color = 'bisque')\n",
    "    plt.fill_between(out_ds.x, -7000, out_ds.profile__br[-1, :], color = 'k')\n",
    "    #plt.scatter(150000, sed_surfaces[8, 15], color = 'r')\n",
    "    #plt.scatter(170000, sed_surfaces[8, 17], color = 'r')\n",
    "    #plt.scatter(200000, sed_surfaces[8, 20], color = 'r')\n",
    "\n",
    "    #plt.scatter(300000, sed_surfaces[8, 30], color = 'r')\n",
    "    #plt.scatter(600000, sed_surfaces[8, 60], color = 'r', zorder = 5)\n",
    "    #plt.scatter(900000, sed_surfaces[8, 90], color = 'r')\n",
    "    #plt.plot(out_ds.x, out_ds.profile__z[-110, :], linewidth = 3, color = 'g', linestyle=':')\n",
    "\n",
    "plt.ylim(-7000, 0)\n",
    "plt.xlim(0, 1400000)\n",
    "\n",
    "#plt.ylim(-1000, 0)\n",
    "#plt.xlim(0, 100000)"
   ]
  },
  {
   "cell_type": "code",
   "execution_count": null,
   "metadata": {},
   "outputs": [],
   "source": [
    "sed_surfaces = np.load('../prepro/all_surfaces.npy')\n",
    "top_surface = sed_surfaces[-1, :] #this is the top of the U8 surface\n",
    "br_surface = sed_surfaces[0, :]\n",
    "plt.figure(figsize=(22,4))\n",
    "plt.plot(out_ds.x, sed_surfaces[0, :])\n",
    "plt.plot(out_ds.x, sed_surfaces[1, :])\n",
    "plt.plot(out_ds.x, sed_surfaces[2, :])\n",
    "plt.plot(out_ds.x, sed_surfaces[3, :])\n",
    "plt.plot(out_ds.x, sed_surfaces[4, :])\n",
    "plt.plot(out_ds.x, sed_surfaces[5, :])\n",
    "plt.plot(out_ds.x, sed_surfaces[6, :])\n",
    "plt.plot(out_ds.x, sed_surfaces[7, :])\n",
    "plt.plot(out_ds.x, sed_surfaces[8, :])\n",
    "#plt.scatter(170000, sed_surfaces[8, 17], color = 'r')\n",
    "#plt.scatter(200000, sed_surfaces[8, 20], color = 'r')\n",
    "#plt.scatter(300000, sed_surfaces[8, 30], color = 'r')\n",
    "#plt.scatter(600000, sed_surfaces[8, 60], color = 'r')\n",
    "#plt.scatter(1100000, sed_surfaces[8, 110], color = 'r')\n",
    "plt.ylim(-7000, 0)\n",
    "plt.xlim(0, 1400000)\n",
    "#plt.ylim(-2000, 0)\n",
    "#plt.xlim(0, 200000)"
   ]
  },
  {
   "cell_type": "code",
   "execution_count": null,
   "metadata": {},
   "outputs": [],
   "source": [
    "pwd"
   ]
  },
  {
   "cell_type": "code",
   "execution_count": 17,
   "metadata": {},
   "outputs": [
    {
     "ename": "NameError",
     "evalue": "name 'out_ds' is not defined",
     "output_type": "error",
     "traceback": [
      "\u001b[0;31m---------------------------------------------------------------------------\u001b[0m",
      "\u001b[0;31mNameError\u001b[0m                                 Traceback (most recent call last)",
      "\u001b[0;32m<ipython-input-17-3f11ea679e10>\u001b[0m in \u001b[0;36m<module>\u001b[0;34m\u001b[0m\n\u001b[1;32m      1\u001b[0m \u001b[0mplt\u001b[0m\u001b[0;34m.\u001b[0m\u001b[0mfigure\u001b[0m\u001b[0;34m(\u001b[0m\u001b[0mfigsize\u001b[0m\u001b[0;34m=\u001b[0m\u001b[0;34m(\u001b[0m\u001b[0;36m22\u001b[0m\u001b[0;34m,\u001b[0m\u001b[0;36m8\u001b[0m\u001b[0;34m)\u001b[0m\u001b[0;34m)\u001b[0m\u001b[0;34m\u001b[0m\u001b[0;34m\u001b[0m\u001b[0m\n\u001b[0;32m----> 2\u001b[0;31m \u001b[0mfinal_bedrock\u001b[0m \u001b[0;34m=\u001b[0m \u001b[0mplt\u001b[0m\u001b[0;34m.\u001b[0m\u001b[0mplot\u001b[0m\u001b[0;34m(\u001b[0m\u001b[0mout_ds\u001b[0m\u001b[0;34m.\u001b[0m\u001b[0mx\u001b[0m\u001b[0;34m,\u001b[0m \u001b[0mout_ds\u001b[0m\u001b[0;34m.\u001b[0m\u001b[0mprofile__br\u001b[0m\u001b[0;34m[\u001b[0m\u001b[0;34m-\u001b[0m\u001b[0;36m1\u001b[0m\u001b[0;34m,\u001b[0m \u001b[0;34m:\u001b[0m\u001b[0;34m]\u001b[0m\u001b[0;34m,\u001b[0m \u001b[0mlinewidth\u001b[0m \u001b[0;34m=\u001b[0m \u001b[0;36m3\u001b[0m\u001b[0;34m,\u001b[0m \u001b[0mcolor\u001b[0m \u001b[0;34m=\u001b[0m \u001b[0;34m'k'\u001b[0m\u001b[0;34m)\u001b[0m\u001b[0;34m\u001b[0m\u001b[0;34m\u001b[0m\u001b[0m\n\u001b[0m\u001b[1;32m      3\u001b[0m     \u001b[0;31m#plt.plot(out_ds.x, out_ds.profile__z[-1, :], linewidth = 3, color = 'k', linestyle='--')\u001b[0m\u001b[0;34m\u001b[0m\u001b[0;34m\u001b[0m\u001b[0;34m\u001b[0m\u001b[0m\n\u001b[1;32m      4\u001b[0m \u001b[0;34m\u001b[0m\u001b[0m\n\u001b[1;32m      5\u001b[0m     \u001b[0;31m#ex: plot adjusted topography from halfway through simulation (otime[65])\u001b[0m\u001b[0;34m\u001b[0m\u001b[0;34m\u001b[0m\u001b[0;34m\u001b[0m\u001b[0m\n",
      "\u001b[0;31mNameError\u001b[0m: name 'out_ds' is not defined"
     ]
    },
    {
     "data": {
      "text/plain": [
       "<Figure size 1584x576 with 0 Axes>"
      ]
     },
     "metadata": {},
     "output_type": "display_data"
    }
   ],
   "source": [
    "plt.figure(figsize=(22,8))\n",
    "final_bedrock = plt.plot(out_ds.x, out_ds.profile__br[-1, :], linewidth = 3, color = 'k')\n",
    "    #plt.plot(out_ds.x, out_ds.profile__z[-1, :], linewidth = 3, color = 'k', linestyle='--')\n",
    "\n",
    "    #ex: plot adjusted topography from halfway through simulation (otime[65])\n",
    "    #calc difference between bedrock at time of interest and final bedrock\n",
    "br_diff0000 = out_ds.profile__br[-1, :] - out_ds.profile__br[129, :]\n",
    "br_diff000 = out_ds.profile__br[-1, :] - out_ds.profile__br[119, :]\n",
    "br_diff00 = out_ds.profile__br[-1, :] - out_ds.profile__br[100, :]\n",
    "br_diff0 = out_ds.profile__br[-1, :] - out_ds.profile__br[64, :]\n",
    "br_diff1 = out_ds.profile__br[-1, :] - out_ds.profile__br[49, :]\n",
    "br_diff2 = out_ds.profile__br[-1, :] - out_ds.profile__br[36, :]\n",
    "br_diff3 = out_ds.profile__br[-1, :] - out_ds.profile__br[30, :]\n",
    "\n",
    "\n",
    "br_diff4 = out_ds.profile__br[-1, :] - out_ds.profile__br[17, :]\n",
    "plt.plot(out_ds.x, out_ds.profile__z[130, :] + br_diff0000, linewidth = 2, color = 'k', linestyle='-')\n",
    "plt.plot(out_ds.x, out_ds.profile__z[119, :] + br_diff000, linewidth = 2, color = 'k', linestyle='-')\n",
    "plt.plot(out_ds.x, out_ds.profile__z[100, :] + br_diff00, linewidth = 2, color = 'k', linestyle='-')\n",
    "plt.plot(out_ds.x, out_ds.profile__z[64, :] + br_diff0, linewidth = 2, color = 'k', linestyle='-')\n",
    "plt.plot(out_ds.x, out_ds.profile__z[49, :] + br_diff1, linewidth = 2, color = 'k', linestyle='-')\n",
    "plt.plot(out_ds.x, out_ds.profile__z[36, :] + br_diff2, linewidth = 2, color = 'k', linestyle='-')\n",
    "plt.plot(out_ds.x, out_ds.profile__z[30, :] + br_diff3, linewidth = 2, color = 'k', linestyle='-')\n",
    "plt.plot(out_ds.x, out_ds.profile__z[17, :] + br_diff4, linewidth = 2, color = 'k', linestyle='-')\n",
    "\n",
    "    #fill in all the strata\n",
    "plt.fill_between(out_ds.x, out_ds.profile__br[-1, :], out_ds.profile__z[17, :] + br_diff4, color = 'darkgreen')\n",
    "plt.fill_between(out_ds.x, out_ds.profile__z[17, :] + br_diff4, out_ds.profile__z[30, :] + br_diff3, color = 'gray')\n",
    "plt.fill_between(out_ds.x, out_ds.profile__z[30, :] + br_diff3, out_ds.profile__z[36, :] + br_diff2, color = 'lightgreen')\n",
    "plt.fill_between(out_ds.x, out_ds.profile__z[36, :] + br_diff2, out_ds.profile__z[49, :] + br_diff1, color = 'green')\n",
    "plt.fill_between(out_ds.x, out_ds.profile__z[49, :] + br_diff1, out_ds.profile__z[64, :] + br_diff0, color = 'yellow')\n",
    "plt.fill_between(out_ds.x, out_ds.profile__z[64, :] + br_diff0, out_ds.profile__z[100, :] + br_diff00, color = 'orange')\n",
    "plt.fill_between(out_ds.x, out_ds.profile__z[100, :] + br_diff00, out_ds.profile__z[119, :] + br_diff000, color = 'gold')\n",
    "plt.fill_between(out_ds.x, out_ds.profile__z[119, :] + br_diff000, out_ds.profile__z[129, :] + br_diff0000, color = 'bisque')\n",
    "plt.fill_between(out_ds.x, -7000, out_ds.profile__br[-1, :], color = 'k')\n",
    "    #plt.scatter(150000, sed_surfaces[8, 15], color = 'r')\n",
    "plt.scatter(170000, sed_surfaces[8, 17], color = 'r')\n",
    "plt.scatter(200000, sed_surfaces[8, 20], color = 'r')\n",
    "\n",
    "plt.scatter(300000, sed_surfaces[8, 30], color = 'r')\n",
    "plt.scatter(600000, sed_surfaces[8, 60], color = 'r')\n",
    "#plt.scatter(1100000, sed_surfaces[8, 110], color = 'r')\n",
    " #plt.plot(out_ds.x, out_ds.profile__z[-110, :], linewidth = 3, color = 'g', linestyle=':')\n",
    "plt.plot(out_ds.x, sed_surfaces[0, :])\n",
    "plt.plot(out_ds.x, sed_surfaces[1, :])\n",
    "plt.plot(out_ds.x, sed_surfaces[2, :])\n",
    "plt.plot(out_ds.x, sed_surfaces[3, :])\n",
    "plt.plot(out_ds.x, sed_surfaces[4, :])\n",
    "plt.plot(out_ds.x, sed_surfaces[5, :])\n",
    "plt.plot(out_ds.x, sed_surfaces[6, :])\n",
    "plt.plot(out_ds.x, sed_surfaces[7, :])\n",
    "plt.plot(out_ds.x, sed_surfaces[8, :])\n",
    "plt.scatter(170000, sed_surfaces[8, 17], color = 'r')\n",
    "plt.scatter(200000, sed_surfaces[8, 20], color = 'r')\n",
    "plt.scatter(300000, sed_surfaces[8, 30], color = 'r')\n",
    "plt.scatter(600000, sed_surfaces[8, 60], color = 'r', zorder = 5)\n",
    "plt.scatter(900000, sed_surfaces[8, 90], color = 'r')\n",
    "plt.scatter(out_ds.x, sed_surfaces[8, :], color = 'b', zorder = 5)\n",
    "plt.scatter(out_ds.x, out_ds.profile__z[-1, :], color = 'g', zorder = 5)\n",
    "\n",
    "plt.ylim(-7000, 0)\n",
    "plt.xlim(0, 1400000)\n",
    "#plt.ylim(-7000, 0)\n",
    "#plt.xlim(0, 1400000)\n",
    "\n",
    "#model final bedrock\n",
    "plt.plot(out_ds.x, out_ds.profile__br[-1, :], color = 'r', linestyle='-.')\n",
    "#data final bedrock\n",
    "plt.plot(out_ds.x, sed_surfaces[0, :], color = 'orange', linestyle='--')\n",
    "print(sed_surfaces[8, 16])"
   ]
  },
  {
   "cell_type": "code",
   "execution_count": null,
   "metadata": {},
   "outputs": [],
   "source": []
  },
  {
   "cell_type": "code",
   "execution_count": null,
   "metadata": {},
   "outputs": [],
   "source": [
    "plt.plot(out_ds.x, out_ds.profile__br[1])\n",
    "plt.plot(out_ds.x, out_ds.profile__z[1])\n",
    "plt.xlim(0, 700000)\n",
    "plt.ylim(-2600, 0)"
   ]
  },
  {
   "cell_type": "code",
   "execution_count": null,
   "metadata": {},
   "outputs": [],
   "source": [
    "first_dt_integral = np.sum(out_ds.profile__h[1])*10000\n",
    "np.array(first_dt_integral)"
   ]
  },
  {
   "cell_type": "code",
   "execution_count": null,
   "metadata": {},
   "outputs": [],
   "source": [
    "basin_width"
   ]
  },
  {
   "cell_type": "code",
   "execution_count": null,
   "metadata": {},
   "outputs": [],
   "source": [
    "best_fit_params"
   ]
  },
  {
   "cell_type": "code",
   "execution_count": null,
   "metadata": {},
   "outputs": [],
   "source": []
  },
  {
   "cell_type": "code",
   "execution_count": null,
   "metadata": {},
   "outputs": [],
   "source": []
  },
  {
   "cell_type": "code",
   "execution_count": null,
   "metadata": {},
   "outputs": [],
   "source": []
  },
  {
   "cell_type": "code",
   "execution_count": null,
   "metadata": {},
   "outputs": [],
   "source": []
  },
  {
   "cell_type": "code",
   "execution_count": null,
   "metadata": {},
   "outputs": [],
   "source": []
  },
  {
   "cell_type": "code",
   "execution_count": null,
   "metadata": {},
   "outputs": [],
   "source": []
  },
  {
   "cell_type": "code",
   "execution_count": null,
   "metadata": {},
   "outputs": [],
   "source": []
  },
  {
   "cell_type": "code",
   "execution_count": null,
   "metadata": {},
   "outputs": [],
   "source": []
  },
  {
   "cell_type": "code",
   "execution_count": null,
   "metadata": {},
   "outputs": [],
   "source": []
  },
  {
   "cell_type": "code",
   "execution_count": null,
   "metadata": {},
   "outputs": [],
   "source": []
  },
  {
   "cell_type": "code",
   "execution_count": null,
   "metadata": {},
   "outputs": [],
   "source": []
  },
  {
   "cell_type": "code",
   "execution_count": null,
   "metadata": {},
   "outputs": [],
   "source": []
  },
  {
   "cell_type": "code",
   "execution_count": null,
   "metadata": {},
   "outputs": [],
   "source": []
  },
  {
   "cell_type": "code",
   "execution_count": null,
   "metadata": {},
   "outputs": [],
   "source": []
  },
  {
   "cell_type": "code",
   "execution_count": null,
   "metadata": {},
   "outputs": [],
   "source": []
  },
  {
   "cell_type": "code",
   "execution_count": null,
   "metadata": {},
   "outputs": [],
   "source": []
  },
  {
   "cell_type": "code",
   "execution_count": null,
   "metadata": {},
   "outputs": [],
   "source": []
  },
  {
   "cell_type": "code",
   "execution_count": null,
   "metadata": {},
   "outputs": [],
   "source": []
  },
  {
   "cell_type": "code",
   "execution_count": null,
   "metadata": {},
   "outputs": [],
   "source": []
  },
  {
   "cell_type": "code",
   "execution_count": null,
   "metadata": {},
   "outputs": [],
   "source": []
  },
  {
   "cell_type": "code",
   "execution_count": null,
   "metadata": {},
   "outputs": [],
   "source": []
  },
  {
   "cell_type": "code",
   "execution_count": null,
   "metadata": {},
   "outputs": [],
   "source": []
  },
  {
   "cell_type": "code",
   "execution_count": null,
   "metadata": {},
   "outputs": [],
   "source": []
  },
  {
   "cell_type": "code",
   "execution_count": null,
   "metadata": {},
   "outputs": [],
   "source": []
  },
  {
   "cell_type": "code",
   "execution_count": null,
   "metadata": {},
   "outputs": [],
   "source": []
  },
  {
   "cell_type": "code",
   "execution_count": null,
   "metadata": {},
   "outputs": [],
   "source": []
  },
  {
   "cell_type": "code",
   "execution_count": null,
   "metadata": {},
   "outputs": [],
   "source": []
  },
  {
   "cell_type": "code",
   "execution_count": null,
   "metadata": {},
   "outputs": [],
   "source": []
  },
  {
   "cell_type": "markdown",
   "metadata": {},
   "source": []
  },
  {
   "cell_type": "code",
   "execution_count": null,
   "metadata": {},
   "outputs": [],
   "source": []
  },
  {
   "cell_type": "code",
   "execution_count": null,
   "metadata": {},
   "outputs": [],
   "source": []
  },
  {
   "cell_type": "markdown",
   "metadata": {},
   "source": [
    "Show distributions of distance functions + compare their values pairwise in 2-d scatterplots"
   ]
  },
  {
   "cell_type": "code",
   "execution_count": null,
   "metadata": {},
   "outputs": [],
   "source": []
  },
  {
   "cell_type": "markdown",
   "metadata": {},
   "source": []
  },
  {
   "cell_type": "code",
   "execution_count": null,
   "metadata": {},
   "outputs": [],
   "source": []
  },
  {
   "cell_type": "markdown",
   "metadata": {},
   "source": [
    "Using swath profile:"
   ]
  },
  {
   "cell_type": "code",
   "execution_count": null,
   "metadata": {},
   "outputs": [],
   "source": []
  },
  {
   "cell_type": "markdown",
   "metadata": {},
   "source": [
    "Using K-S statistic on independent distributions:"
   ]
  },
  {
   "cell_type": "code",
   "execution_count": null,
   "metadata": {},
   "outputs": [],
   "source": []
  },
  {
   "cell_type": "markdown",
   "metadata": {},
   "source": [
    "Using K-S statistic on landscape index distribution:"
   ]
  },
  {
   "cell_type": "code",
   "execution_count": null,
   "metadata": {},
   "outputs": [],
   "source": []
  },
  {
   "cell_type": "markdown",
   "metadata": {},
   "source": []
  },
  {
   "cell_type": "code",
   "execution_count": null,
   "metadata": {},
   "outputs": [],
   "source": []
  },
  {
   "cell_type": "markdown",
   "metadata": {},
   "source": []
  },
  {
   "cell_type": "code",
   "execution_count": null,
   "metadata": {},
   "outputs": [],
   "source": []
  },
  {
   "cell_type": "code",
   "execution_count": null,
   "metadata": {},
   "outputs": [],
   "source": []
  },
  {
   "cell_type": "code",
   "execution_count": null,
   "metadata": {},
   "outputs": [],
   "source": []
  }
 ],
 "metadata": {
  "kernelspec": {
   "display_name": "Python [conda env:.conda-charlie-env-2]",
   "language": "python",
   "name": "conda-env-.conda-charlie-env-2-py"
  },
  "language_info": {
   "codemirror_mode": {
    "name": "ipython",
    "version": 3
   },
   "file_extension": ".py",
   "mimetype": "text/x-python",
   "name": "python",
   "nbconvert_exporter": "python",
   "pygments_lexer": "ipython3",
   "version": "3.7.6"
  }
 },
 "nbformat": 4,
 "nbformat_minor": 4
}
